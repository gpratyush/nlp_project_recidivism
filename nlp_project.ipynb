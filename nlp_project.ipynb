{
 "cells": [
  {
   "cell_type": "code",
   "execution_count": 2,
   "metadata": {},
   "outputs": [],
   "source": [
    "import sqlite3\n",
    "import sys\n",
    "import pandas as pd\n",
    "import numpy as np\n",
    "from sklearn.model_selection import train_test_split\n",
    "from sklearn.preprocessing import MinMaxScaler"
   ]
  },
  {
   "cell_type": "code",
   "execution_count": 3,
   "metadata": {},
   "outputs": [
    {
     "data": {
      "text/html": [
       "<div>\n",
       "<style scoped>\n",
       "    .dataframe tbody tr th:only-of-type {\n",
       "        vertical-align: middle;\n",
       "    }\n",
       "\n",
       "    .dataframe tbody tr th {\n",
       "        vertical-align: top;\n",
       "    }\n",
       "\n",
       "    .dataframe thead th {\n",
       "        text-align: right;\n",
       "    }\n",
       "</style>\n",
       "<table border=\"1\" class=\"dataframe\">\n",
       "  <thead>\n",
       "    <tr style=\"text-align: right;\">\n",
       "      <th></th>\n",
       "      <th>id</th>\n",
       "      <th>name</th>\n",
       "      <th>first</th>\n",
       "      <th>last</th>\n",
       "      <th>compas_screening_date</th>\n",
       "      <th>sex</th>\n",
       "      <th>dob</th>\n",
       "      <th>age</th>\n",
       "      <th>age_cat</th>\n",
       "      <th>race</th>\n",
       "      <th>juv_fel_count</th>\n",
       "      <th>decile_score</th>\n",
       "      <th>juv_misd_count</th>\n",
       "      <th>juv_other_count</th>\n",
       "      <th>priors_count</th>\n",
       "      <th>days_b_screening_arrest</th>\n",
       "      <th>c_jail_in</th>\n",
       "      <th>c_jail_out</th>\n",
       "      <th>c_case_number</th>\n",
       "      <th>c_offense_date</th>\n",
       "      <th>c_arrest_date</th>\n",
       "      <th>c_days_from_compas</th>\n",
       "      <th>c_charge_degree</th>\n",
       "      <th>c_charge_desc</th>\n",
       "      <th>is_recid</th>\n",
       "      <th>r_case_number</th>\n",
       "      <th>r_charge_degree</th>\n",
       "      <th>r_days_from_arrest</th>\n",
       "      <th>r_offense_date</th>\n",
       "      <th>r_charge_desc</th>\n",
       "      <th>r_jail_in</th>\n",
       "      <th>r_jail_out</th>\n",
       "      <th>violent_recid</th>\n",
       "      <th>is_violent_recid</th>\n",
       "      <th>vr_case_number</th>\n",
       "      <th>vr_charge_degree</th>\n",
       "      <th>vr_offense_date</th>\n",
       "      <th>vr_charge_desc</th>\n",
       "      <th>type_of_assessment</th>\n",
       "      <th>decile_score.1</th>\n",
       "      <th>score_text</th>\n",
       "      <th>screening_date</th>\n",
       "      <th>v_type_of_assessment</th>\n",
       "      <th>v_decile_score</th>\n",
       "      <th>v_score_text</th>\n",
       "      <th>v_screening_date</th>\n",
       "      <th>in_custody</th>\n",
       "      <th>out_custody</th>\n",
       "      <th>priors_count.1</th>\n",
       "      <th>start</th>\n",
       "      <th>end</th>\n",
       "      <th>event</th>\n",
       "    </tr>\n",
       "  </thead>\n",
       "  <tbody>\n",
       "    <tr>\n",
       "      <th>0</th>\n",
       "      <td>1</td>\n",
       "      <td>miguel hernandez</td>\n",
       "      <td>miguel</td>\n",
       "      <td>hernandez</td>\n",
       "      <td>2013-08-14</td>\n",
       "      <td>Male</td>\n",
       "      <td>1947-04-18</td>\n",
       "      <td>69</td>\n",
       "      <td>Greater than 45</td>\n",
       "      <td>Other</td>\n",
       "      <td>0</td>\n",
       "      <td>1</td>\n",
       "      <td>0</td>\n",
       "      <td>0</td>\n",
       "      <td>0</td>\n",
       "      <td>-1.0</td>\n",
       "      <td>2013-08-13 06:03:42</td>\n",
       "      <td>2013-08-14 05:41:20</td>\n",
       "      <td>13011352CF10A</td>\n",
       "      <td>2013-08-13</td>\n",
       "      <td>NaN</td>\n",
       "      <td>1.0</td>\n",
       "      <td>(F3)</td>\n",
       "      <td>Aggravated Assault w/Firearm</td>\n",
       "      <td>0</td>\n",
       "      <td>NaN</td>\n",
       "      <td>NaN</td>\n",
       "      <td>NaN</td>\n",
       "      <td>NaN</td>\n",
       "      <td>NaN</td>\n",
       "      <td>NaN</td>\n",
       "      <td>NaN</td>\n",
       "      <td>NaN</td>\n",
       "      <td>0</td>\n",
       "      <td>NaN</td>\n",
       "      <td>NaN</td>\n",
       "      <td>NaN</td>\n",
       "      <td>NaN</td>\n",
       "      <td>Risk of Recidivism</td>\n",
       "      <td>1</td>\n",
       "      <td>Low</td>\n",
       "      <td>2013-08-14</td>\n",
       "      <td>Risk of Violence</td>\n",
       "      <td>1</td>\n",
       "      <td>Low</td>\n",
       "      <td>2013-08-14</td>\n",
       "      <td>2014-07-07</td>\n",
       "      <td>2014-07-14</td>\n",
       "      <td>0</td>\n",
       "      <td>0</td>\n",
       "      <td>327</td>\n",
       "      <td>0</td>\n",
       "    </tr>\n",
       "    <tr>\n",
       "      <th>1</th>\n",
       "      <td>1</td>\n",
       "      <td>miguel hernandez</td>\n",
       "      <td>miguel</td>\n",
       "      <td>hernandez</td>\n",
       "      <td>2013-08-14</td>\n",
       "      <td>Male</td>\n",
       "      <td>1947-04-18</td>\n",
       "      <td>69</td>\n",
       "      <td>Greater than 45</td>\n",
       "      <td>Other</td>\n",
       "      <td>0</td>\n",
       "      <td>1</td>\n",
       "      <td>0</td>\n",
       "      <td>0</td>\n",
       "      <td>0</td>\n",
       "      <td>-1.0</td>\n",
       "      <td>2013-08-13 06:03:42</td>\n",
       "      <td>2013-08-14 05:41:20</td>\n",
       "      <td>13011352CF10A</td>\n",
       "      <td>2013-08-13</td>\n",
       "      <td>NaN</td>\n",
       "      <td>1.0</td>\n",
       "      <td>(F3)</td>\n",
       "      <td>Aggravated Assault w/Firearm</td>\n",
       "      <td>0</td>\n",
       "      <td>NaN</td>\n",
       "      <td>NaN</td>\n",
       "      <td>NaN</td>\n",
       "      <td>NaN</td>\n",
       "      <td>NaN</td>\n",
       "      <td>NaN</td>\n",
       "      <td>NaN</td>\n",
       "      <td>NaN</td>\n",
       "      <td>0</td>\n",
       "      <td>NaN</td>\n",
       "      <td>NaN</td>\n",
       "      <td>NaN</td>\n",
       "      <td>NaN</td>\n",
       "      <td>Risk of Recidivism</td>\n",
       "      <td>1</td>\n",
       "      <td>Low</td>\n",
       "      <td>2013-08-14</td>\n",
       "      <td>Risk of Violence</td>\n",
       "      <td>1</td>\n",
       "      <td>Low</td>\n",
       "      <td>2013-08-14</td>\n",
       "      <td>2014-07-07</td>\n",
       "      <td>2014-07-14</td>\n",
       "      <td>0</td>\n",
       "      <td>334</td>\n",
       "      <td>961</td>\n",
       "      <td>0</td>\n",
       "    </tr>\n",
       "    <tr>\n",
       "      <th>2</th>\n",
       "      <td>3</td>\n",
       "      <td>kevon dixon</td>\n",
       "      <td>kevon</td>\n",
       "      <td>dixon</td>\n",
       "      <td>2013-01-27</td>\n",
       "      <td>Male</td>\n",
       "      <td>1982-01-22</td>\n",
       "      <td>34</td>\n",
       "      <td>25 - 45</td>\n",
       "      <td>African-American</td>\n",
       "      <td>0</td>\n",
       "      <td>3</td>\n",
       "      <td>0</td>\n",
       "      <td>0</td>\n",
       "      <td>0</td>\n",
       "      <td>-1.0</td>\n",
       "      <td>2013-01-26 03:45:27</td>\n",
       "      <td>2013-02-05 05:36:53</td>\n",
       "      <td>13001275CF10A</td>\n",
       "      <td>2013-01-26</td>\n",
       "      <td>NaN</td>\n",
       "      <td>1.0</td>\n",
       "      <td>(F3)</td>\n",
       "      <td>Felony Battery w/Prior Convict</td>\n",
       "      <td>1</td>\n",
       "      <td>13009779CF10A</td>\n",
       "      <td>(F3)</td>\n",
       "      <td>NaN</td>\n",
       "      <td>2013-07-05</td>\n",
       "      <td>Felony Battery (Dom Strang)</td>\n",
       "      <td>NaN</td>\n",
       "      <td>NaN</td>\n",
       "      <td>NaN</td>\n",
       "      <td>1</td>\n",
       "      <td>13009779CF10A</td>\n",
       "      <td>(F3)</td>\n",
       "      <td>2013-07-05</td>\n",
       "      <td>Felony Battery (Dom Strang)</td>\n",
       "      <td>Risk of Recidivism</td>\n",
       "      <td>3</td>\n",
       "      <td>Low</td>\n",
       "      <td>2013-01-27</td>\n",
       "      <td>Risk of Violence</td>\n",
       "      <td>1</td>\n",
       "      <td>Low</td>\n",
       "      <td>2013-01-27</td>\n",
       "      <td>2013-01-26</td>\n",
       "      <td>2013-02-05</td>\n",
       "      <td>0</td>\n",
       "      <td>9</td>\n",
       "      <td>159</td>\n",
       "      <td>1</td>\n",
       "    </tr>\n",
       "    <tr>\n",
       "      <th>3</th>\n",
       "      <td>4</td>\n",
       "      <td>ed philo</td>\n",
       "      <td>ed</td>\n",
       "      <td>philo</td>\n",
       "      <td>2013-04-14</td>\n",
       "      <td>Male</td>\n",
       "      <td>1991-05-14</td>\n",
       "      <td>24</td>\n",
       "      <td>Less than 25</td>\n",
       "      <td>African-American</td>\n",
       "      <td>0</td>\n",
       "      <td>4</td>\n",
       "      <td>0</td>\n",
       "      <td>1</td>\n",
       "      <td>4</td>\n",
       "      <td>-1.0</td>\n",
       "      <td>2013-04-13 04:58:34</td>\n",
       "      <td>2013-04-14 07:02:04</td>\n",
       "      <td>13005330CF10A</td>\n",
       "      <td>2013-04-13</td>\n",
       "      <td>NaN</td>\n",
       "      <td>1.0</td>\n",
       "      <td>(F3)</td>\n",
       "      <td>Possession of Cocaine</td>\n",
       "      <td>1</td>\n",
       "      <td>13011511MM10A</td>\n",
       "      <td>(M1)</td>\n",
       "      <td>0.0</td>\n",
       "      <td>2013-06-16</td>\n",
       "      <td>Driving Under The Influence</td>\n",
       "      <td>2013-06-16</td>\n",
       "      <td>2013-06-16</td>\n",
       "      <td>NaN</td>\n",
       "      <td>0</td>\n",
       "      <td>NaN</td>\n",
       "      <td>NaN</td>\n",
       "      <td>NaN</td>\n",
       "      <td>NaN</td>\n",
       "      <td>Risk of Recidivism</td>\n",
       "      <td>4</td>\n",
       "      <td>Low</td>\n",
       "      <td>2013-04-14</td>\n",
       "      <td>Risk of Violence</td>\n",
       "      <td>3</td>\n",
       "      <td>Low</td>\n",
       "      <td>2013-04-14</td>\n",
       "      <td>2013-06-16</td>\n",
       "      <td>2013-06-16</td>\n",
       "      <td>4</td>\n",
       "      <td>0</td>\n",
       "      <td>63</td>\n",
       "      <td>0</td>\n",
       "    </tr>\n",
       "    <tr>\n",
       "      <th>4</th>\n",
       "      <td>4</td>\n",
       "      <td>ed philo</td>\n",
       "      <td>ed</td>\n",
       "      <td>philo</td>\n",
       "      <td>2013-04-14</td>\n",
       "      <td>Male</td>\n",
       "      <td>1991-05-14</td>\n",
       "      <td>24</td>\n",
       "      <td>Less than 25</td>\n",
       "      <td>African-American</td>\n",
       "      <td>0</td>\n",
       "      <td>4</td>\n",
       "      <td>0</td>\n",
       "      <td>1</td>\n",
       "      <td>4</td>\n",
       "      <td>-1.0</td>\n",
       "      <td>2013-04-13 04:58:34</td>\n",
       "      <td>2013-04-14 07:02:04</td>\n",
       "      <td>13005330CF10A</td>\n",
       "      <td>2013-04-13</td>\n",
       "      <td>NaN</td>\n",
       "      <td>1.0</td>\n",
       "      <td>(F3)</td>\n",
       "      <td>Possession of Cocaine</td>\n",
       "      <td>1</td>\n",
       "      <td>13011511MM10A</td>\n",
       "      <td>(M1)</td>\n",
       "      <td>0.0</td>\n",
       "      <td>2013-06-16</td>\n",
       "      <td>Driving Under The Influence</td>\n",
       "      <td>2013-06-16</td>\n",
       "      <td>2013-06-16</td>\n",
       "      <td>NaN</td>\n",
       "      <td>0</td>\n",
       "      <td>NaN</td>\n",
       "      <td>NaN</td>\n",
       "      <td>NaN</td>\n",
       "      <td>NaN</td>\n",
       "      <td>Risk of Recidivism</td>\n",
       "      <td>4</td>\n",
       "      <td>Low</td>\n",
       "      <td>2013-04-14</td>\n",
       "      <td>Risk of Violence</td>\n",
       "      <td>3</td>\n",
       "      <td>Low</td>\n",
       "      <td>2013-04-14</td>\n",
       "      <td>2013-06-16</td>\n",
       "      <td>2013-06-16</td>\n",
       "      <td>4</td>\n",
       "      <td>63</td>\n",
       "      <td>64</td>\n",
       "      <td>1</td>\n",
       "    </tr>\n",
       "  </tbody>\n",
       "</table>\n",
       "</div>"
      ],
      "text/plain": [
       "   id              name   first       last compas_screening_date   sex  \\\n",
       "0   1  miguel hernandez  miguel  hernandez            2013-08-14  Male   \n",
       "1   1  miguel hernandez  miguel  hernandez            2013-08-14  Male   \n",
       "2   3       kevon dixon   kevon      dixon            2013-01-27  Male   \n",
       "3   4          ed philo      ed      philo            2013-04-14  Male   \n",
       "4   4          ed philo      ed      philo            2013-04-14  Male   \n",
       "\n",
       "          dob  age          age_cat              race  juv_fel_count  \\\n",
       "0  1947-04-18   69  Greater than 45             Other              0   \n",
       "1  1947-04-18   69  Greater than 45             Other              0   \n",
       "2  1982-01-22   34          25 - 45  African-American              0   \n",
       "3  1991-05-14   24     Less than 25  African-American              0   \n",
       "4  1991-05-14   24     Less than 25  African-American              0   \n",
       "\n",
       "   decile_score  juv_misd_count  juv_other_count  priors_count  \\\n",
       "0             1               0                0             0   \n",
       "1             1               0                0             0   \n",
       "2             3               0                0             0   \n",
       "3             4               0                1             4   \n",
       "4             4               0                1             4   \n",
       "\n",
       "   days_b_screening_arrest            c_jail_in           c_jail_out  \\\n",
       "0                     -1.0  2013-08-13 06:03:42  2013-08-14 05:41:20   \n",
       "1                     -1.0  2013-08-13 06:03:42  2013-08-14 05:41:20   \n",
       "2                     -1.0  2013-01-26 03:45:27  2013-02-05 05:36:53   \n",
       "3                     -1.0  2013-04-13 04:58:34  2013-04-14 07:02:04   \n",
       "4                     -1.0  2013-04-13 04:58:34  2013-04-14 07:02:04   \n",
       "\n",
       "   c_case_number c_offense_date c_arrest_date  c_days_from_compas  \\\n",
       "0  13011352CF10A     2013-08-13           NaN                 1.0   \n",
       "1  13011352CF10A     2013-08-13           NaN                 1.0   \n",
       "2  13001275CF10A     2013-01-26           NaN                 1.0   \n",
       "3  13005330CF10A     2013-04-13           NaN                 1.0   \n",
       "4  13005330CF10A     2013-04-13           NaN                 1.0   \n",
       "\n",
       "  c_charge_degree                   c_charge_desc  is_recid  r_case_number  \\\n",
       "0            (F3)    Aggravated Assault w/Firearm         0            NaN   \n",
       "1            (F3)    Aggravated Assault w/Firearm         0            NaN   \n",
       "2            (F3)  Felony Battery w/Prior Convict         1  13009779CF10A   \n",
       "3            (F3)           Possession of Cocaine         1  13011511MM10A   \n",
       "4            (F3)           Possession of Cocaine         1  13011511MM10A   \n",
       "\n",
       "  r_charge_degree  r_days_from_arrest r_offense_date  \\\n",
       "0             NaN                 NaN            NaN   \n",
       "1             NaN                 NaN            NaN   \n",
       "2            (F3)                 NaN     2013-07-05   \n",
       "3            (M1)                 0.0     2013-06-16   \n",
       "4            (M1)                 0.0     2013-06-16   \n",
       "\n",
       "                 r_charge_desc   r_jail_in  r_jail_out  violent_recid  \\\n",
       "0                          NaN         NaN         NaN            NaN   \n",
       "1                          NaN         NaN         NaN            NaN   \n",
       "2  Felony Battery (Dom Strang)         NaN         NaN            NaN   \n",
       "3  Driving Under The Influence  2013-06-16  2013-06-16            NaN   \n",
       "4  Driving Under The Influence  2013-06-16  2013-06-16            NaN   \n",
       "\n",
       "   is_violent_recid vr_case_number vr_charge_degree vr_offense_date  \\\n",
       "0                 0            NaN              NaN             NaN   \n",
       "1                 0            NaN              NaN             NaN   \n",
       "2                 1  13009779CF10A             (F3)      2013-07-05   \n",
       "3                 0            NaN              NaN             NaN   \n",
       "4                 0            NaN              NaN             NaN   \n",
       "\n",
       "                vr_charge_desc  type_of_assessment  decile_score.1 score_text  \\\n",
       "0                          NaN  Risk of Recidivism               1        Low   \n",
       "1                          NaN  Risk of Recidivism               1        Low   \n",
       "2  Felony Battery (Dom Strang)  Risk of Recidivism               3        Low   \n",
       "3                          NaN  Risk of Recidivism               4        Low   \n",
       "4                          NaN  Risk of Recidivism               4        Low   \n",
       "\n",
       "  screening_date v_type_of_assessment  v_decile_score v_score_text  \\\n",
       "0     2013-08-14     Risk of Violence               1          Low   \n",
       "1     2013-08-14     Risk of Violence               1          Low   \n",
       "2     2013-01-27     Risk of Violence               1          Low   \n",
       "3     2013-04-14     Risk of Violence               3          Low   \n",
       "4     2013-04-14     Risk of Violence               3          Low   \n",
       "\n",
       "  v_screening_date  in_custody out_custody  priors_count.1  start  end  event  \n",
       "0       2013-08-14  2014-07-07  2014-07-14               0      0  327      0  \n",
       "1       2013-08-14  2014-07-07  2014-07-14               0    334  961      0  \n",
       "2       2013-01-27  2013-01-26  2013-02-05               0      9  159      1  \n",
       "3       2013-04-14  2013-06-16  2013-06-16               4      0   63      0  \n",
       "4       2013-04-14  2013-06-16  2013-06-16               4     63   64      1  "
      ]
     },
     "execution_count": 3,
     "metadata": {},
     "output_type": "execute_result"
    }
   ],
   "source": [
    "df2 = pd.read_csv(\"cox-parsed.csv\")\n",
    "pd.set_option('display.max_columns', 52)\n",
    "df2.head()"
   ]
  },
  {
   "cell_type": "code",
   "execution_count": 4,
   "metadata": {},
   "outputs": [],
   "source": [
    "workable_cols = ['id','sex','age','age_cat', 'race','juv_fel_count',\n",
    " 'decile_score',\n",
    " 'juv_misd_count',\n",
    " 'juv_other_count',\n",
    " 'priors_count',\n",
    " 'days_b_screening_arrest',\n",
    " 'c_jail_in',\n",
    " 'c_jail_out','c_charge_degree',\n",
    " 'c_charge_desc',\n",
    "'is_recid']\n",
    "df_reduced = df2[workable_cols].copy()"
   ]
  },
  {
   "cell_type": "code",
   "execution_count": 5,
   "metadata": {},
   "outputs": [
    {
     "data": {
      "text/html": [
       "<div>\n",
       "<style scoped>\n",
       "    .dataframe tbody tr th:only-of-type {\n",
       "        vertical-align: middle;\n",
       "    }\n",
       "\n",
       "    .dataframe tbody tr th {\n",
       "        vertical-align: top;\n",
       "    }\n",
       "\n",
       "    .dataframe thead th {\n",
       "        text-align: right;\n",
       "    }\n",
       "</style>\n",
       "<table border=\"1\" class=\"dataframe\">\n",
       "  <thead>\n",
       "    <tr style=\"text-align: right;\">\n",
       "      <th></th>\n",
       "      <th>id</th>\n",
       "      <th>sex</th>\n",
       "      <th>age</th>\n",
       "      <th>age_cat</th>\n",
       "      <th>race</th>\n",
       "      <th>juv_fel_count</th>\n",
       "      <th>decile_score</th>\n",
       "      <th>juv_misd_count</th>\n",
       "      <th>juv_other_count</th>\n",
       "      <th>priors_count</th>\n",
       "      <th>days_b_screening_arrest</th>\n",
       "      <th>c_jail_in</th>\n",
       "      <th>c_jail_out</th>\n",
       "      <th>c_charge_degree</th>\n",
       "      <th>c_charge_desc</th>\n",
       "      <th>is_recid</th>\n",
       "      <th>num_days</th>\n",
       "    </tr>\n",
       "  </thead>\n",
       "  <tbody>\n",
       "    <tr>\n",
       "      <th>0</th>\n",
       "      <td>1</td>\n",
       "      <td>Male</td>\n",
       "      <td>69</td>\n",
       "      <td>Greater than 45</td>\n",
       "      <td>Other</td>\n",
       "      <td>0</td>\n",
       "      <td>1</td>\n",
       "      <td>0</td>\n",
       "      <td>0</td>\n",
       "      <td>0</td>\n",
       "      <td>-1.0</td>\n",
       "      <td>2013-08-13 06:03:42</td>\n",
       "      <td>2013-08-14 05:41:20</td>\n",
       "      <td>(F3)</td>\n",
       "      <td>Aggravated Assault w/Firearm</td>\n",
       "      <td>0</td>\n",
       "      <td>2</td>\n",
       "    </tr>\n",
       "    <tr>\n",
       "      <th>1</th>\n",
       "      <td>1</td>\n",
       "      <td>Male</td>\n",
       "      <td>69</td>\n",
       "      <td>Greater than 45</td>\n",
       "      <td>Other</td>\n",
       "      <td>0</td>\n",
       "      <td>1</td>\n",
       "      <td>0</td>\n",
       "      <td>0</td>\n",
       "      <td>0</td>\n",
       "      <td>-1.0</td>\n",
       "      <td>2013-08-13 06:03:42</td>\n",
       "      <td>2013-08-14 05:41:20</td>\n",
       "      <td>(F3)</td>\n",
       "      <td>Aggravated Assault w/Firearm</td>\n",
       "      <td>0</td>\n",
       "      <td>2</td>\n",
       "    </tr>\n",
       "    <tr>\n",
       "      <th>2</th>\n",
       "      <td>3</td>\n",
       "      <td>Male</td>\n",
       "      <td>34</td>\n",
       "      <td>25 - 45</td>\n",
       "      <td>African-American</td>\n",
       "      <td>0</td>\n",
       "      <td>3</td>\n",
       "      <td>0</td>\n",
       "      <td>0</td>\n",
       "      <td>0</td>\n",
       "      <td>-1.0</td>\n",
       "      <td>2013-01-26 03:45:27</td>\n",
       "      <td>2013-02-05 05:36:53</td>\n",
       "      <td>(F3)</td>\n",
       "      <td>Felony Battery w/Prior Convict</td>\n",
       "      <td>1</td>\n",
       "      <td>10</td>\n",
       "    </tr>\n",
       "    <tr>\n",
       "      <th>3</th>\n",
       "      <td>4</td>\n",
       "      <td>Male</td>\n",
       "      <td>24</td>\n",
       "      <td>Less than 25</td>\n",
       "      <td>African-American</td>\n",
       "      <td>0</td>\n",
       "      <td>4</td>\n",
       "      <td>0</td>\n",
       "      <td>1</td>\n",
       "      <td>4</td>\n",
       "      <td>-1.0</td>\n",
       "      <td>2013-04-13 04:58:34</td>\n",
       "      <td>2013-04-14 07:02:04</td>\n",
       "      <td>(F3)</td>\n",
       "      <td>Possession of Cocaine</td>\n",
       "      <td>1</td>\n",
       "      <td>2</td>\n",
       "    </tr>\n",
       "    <tr>\n",
       "      <th>4</th>\n",
       "      <td>4</td>\n",
       "      <td>Male</td>\n",
       "      <td>24</td>\n",
       "      <td>Less than 25</td>\n",
       "      <td>African-American</td>\n",
       "      <td>0</td>\n",
       "      <td>4</td>\n",
       "      <td>0</td>\n",
       "      <td>1</td>\n",
       "      <td>4</td>\n",
       "      <td>-1.0</td>\n",
       "      <td>2013-04-13 04:58:34</td>\n",
       "      <td>2013-04-14 07:02:04</td>\n",
       "      <td>(F3)</td>\n",
       "      <td>Possession of Cocaine</td>\n",
       "      <td>1</td>\n",
       "      <td>2</td>\n",
       "    </tr>\n",
       "  </tbody>\n",
       "</table>\n",
       "</div>"
      ],
      "text/plain": [
       "   id   sex  age          age_cat              race  juv_fel_count  \\\n",
       "0   1  Male   69  Greater than 45             Other              0   \n",
       "1   1  Male   69  Greater than 45             Other              0   \n",
       "2   3  Male   34          25 - 45  African-American              0   \n",
       "3   4  Male   24     Less than 25  African-American              0   \n",
       "4   4  Male   24     Less than 25  African-American              0   \n",
       "\n",
       "   decile_score  juv_misd_count  juv_other_count  priors_count  \\\n",
       "0             1               0                0             0   \n",
       "1             1               0                0             0   \n",
       "2             3               0                0             0   \n",
       "3             4               0                1             4   \n",
       "4             4               0                1             4   \n",
       "\n",
       "   days_b_screening_arrest            c_jail_in           c_jail_out  \\\n",
       "0                     -1.0  2013-08-13 06:03:42  2013-08-14 05:41:20   \n",
       "1                     -1.0  2013-08-13 06:03:42  2013-08-14 05:41:20   \n",
       "2                     -1.0  2013-01-26 03:45:27  2013-02-05 05:36:53   \n",
       "3                     -1.0  2013-04-13 04:58:34  2013-04-14 07:02:04   \n",
       "4                     -1.0  2013-04-13 04:58:34  2013-04-14 07:02:04   \n",
       "\n",
       "  c_charge_degree                   c_charge_desc  is_recid  num_days  \n",
       "0            (F3)    Aggravated Assault w/Firearm         0         2  \n",
       "1            (F3)    Aggravated Assault w/Firearm         0         2  \n",
       "2            (F3)  Felony Battery w/Prior Convict         1        10  \n",
       "3            (F3)           Possession of Cocaine         1         2  \n",
       "4            (F3)           Possession of Cocaine         1         2  "
      ]
     },
     "execution_count": 5,
     "metadata": {},
     "output_type": "execute_result"
    }
   ],
   "source": [
    "c_jail_in = df_reduced['c_jail_in'].fillna(0).to_numpy()\n",
    "c_jail_out = df_reduced['c_jail_out'].fillna(0).to_numpy()\n",
    "def num_days(jail_in, jail_out):\n",
    "    if jail_in == 0 or jail_out ==0:\n",
    "        return 0\n",
    "    else:\n",
    "        in_time = [int(x) for x in jail_in]\n",
    "        out_time = [int(x) for x in jail_out]\n",
    "        year_diff = out_time[0]-in_time[0]\n",
    "        month_diff = out_time[1]-in_time[1]\n",
    "        day_diff = out_time[2]-in_time[2]+1\n",
    "        total_diff = day_diff+30*month_diff+365*year_diff\n",
    "        return total_diff\n",
    "def process_dates(jail):\n",
    "    out = []\n",
    "    for x in range(len(jail)):\n",
    "        curr = jail[x]\n",
    "        if curr!=0:\n",
    "            curr = curr.split(' ')[0].split('-')\n",
    "        out.append(curr)\n",
    "    return np.array(out)\n",
    "c_jail_in = process_dates(c_jail_in)\n",
    "c_jail_out = process_dates(c_jail_out)\n",
    "num_days_inside = [num_days(x,y) for x,y in zip(c_jail_in,c_jail_out)]\n",
    "df_reduced['num_days'] = num_days_inside\n",
    "df_reduced.head()"
   ]
  },
  {
   "cell_type": "code",
   "execution_count": 6,
   "metadata": {},
   "outputs": [],
   "source": [
    "df_reduced.drop('c_jail_in',axis=1,inplace=True)\n",
    "df_reduced.drop('c_jail_out',axis=1,inplace=True)\n",
    "df_reduced.drop('c_charge_desc',axis=1,inplace=True)\n",
    "df_reduced.drop('days_b_screening_arrest',axis=1,inplace=True)\n",
    "df_reduced = df_reduced.loc[(df_reduced['race'].isin(['African-American', 'Caucasian']))]\n",
    "df_reduced['race'].replace('African-American',0, inplace=True)\n",
    "df_reduced['race'].replace('Caucasian',1, inplace=True)\n",
    "df_reduced['sex'].replace('Male',0, inplace=True)\n",
    "df_reduced['sex'].replace('Female',1, inplace=True)\n",
    "#df_reduced.drop('id',axis=1,inplace=True)"
   ]
  },
  {
   "cell_type": "code",
   "execution_count": 7,
   "metadata": {},
   "outputs": [
    {
     "data": {
      "text/html": [
       "<div>\n",
       "<style scoped>\n",
       "    .dataframe tbody tr th:only-of-type {\n",
       "        vertical-align: middle;\n",
       "    }\n",
       "\n",
       "    .dataframe tbody tr th {\n",
       "        vertical-align: top;\n",
       "    }\n",
       "\n",
       "    .dataframe thead th {\n",
       "        text-align: right;\n",
       "    }\n",
       "</style>\n",
       "<table border=\"1\" class=\"dataframe\">\n",
       "  <thead>\n",
       "    <tr style=\"text-align: right;\">\n",
       "      <th></th>\n",
       "      <th>id</th>\n",
       "      <th>sex</th>\n",
       "      <th>age</th>\n",
       "      <th>age_cat</th>\n",
       "      <th>race</th>\n",
       "      <th>juv_fel_count</th>\n",
       "      <th>decile_score</th>\n",
       "      <th>juv_misd_count</th>\n",
       "      <th>juv_other_count</th>\n",
       "      <th>priors_count</th>\n",
       "      <th>c_charge_degree</th>\n",
       "      <th>is_recid</th>\n",
       "      <th>num_days</th>\n",
       "    </tr>\n",
       "  </thead>\n",
       "  <tbody>\n",
       "    <tr>\n",
       "      <th>2</th>\n",
       "      <td>3</td>\n",
       "      <td>0</td>\n",
       "      <td>34</td>\n",
       "      <td>1</td>\n",
       "      <td>0</td>\n",
       "      <td>0</td>\n",
       "      <td>3</td>\n",
       "      <td>0</td>\n",
       "      <td>0</td>\n",
       "      <td>0</td>\n",
       "      <td>(F3)</td>\n",
       "      <td>1</td>\n",
       "      <td>10</td>\n",
       "    </tr>\n",
       "    <tr>\n",
       "      <th>3</th>\n",
       "      <td>4</td>\n",
       "      <td>0</td>\n",
       "      <td>24</td>\n",
       "      <td>0</td>\n",
       "      <td>0</td>\n",
       "      <td>0</td>\n",
       "      <td>4</td>\n",
       "      <td>0</td>\n",
       "      <td>1</td>\n",
       "      <td>4</td>\n",
       "      <td>(F3)</td>\n",
       "      <td>1</td>\n",
       "      <td>2</td>\n",
       "    </tr>\n",
       "    <tr>\n",
       "      <th>4</th>\n",
       "      <td>4</td>\n",
       "      <td>0</td>\n",
       "      <td>24</td>\n",
       "      <td>0</td>\n",
       "      <td>0</td>\n",
       "      <td>0</td>\n",
       "      <td>4</td>\n",
       "      <td>0</td>\n",
       "      <td>1</td>\n",
       "      <td>4</td>\n",
       "      <td>(F3)</td>\n",
       "      <td>1</td>\n",
       "      <td>2</td>\n",
       "    </tr>\n",
       "    <tr>\n",
       "      <th>5</th>\n",
       "      <td>5</td>\n",
       "      <td>0</td>\n",
       "      <td>23</td>\n",
       "      <td>0</td>\n",
       "      <td>0</td>\n",
       "      <td>0</td>\n",
       "      <td>8</td>\n",
       "      <td>1</td>\n",
       "      <td>0</td>\n",
       "      <td>1</td>\n",
       "      <td>(F3)</td>\n",
       "      <td>0</td>\n",
       "      <td>0</td>\n",
       "    </tr>\n",
       "    <tr>\n",
       "      <th>8</th>\n",
       "      <td>8</td>\n",
       "      <td>0</td>\n",
       "      <td>41</td>\n",
       "      <td>1</td>\n",
       "      <td>1</td>\n",
       "      <td>0</td>\n",
       "      <td>6</td>\n",
       "      <td>0</td>\n",
       "      <td>0</td>\n",
       "      <td>14</td>\n",
       "      <td>(F3)</td>\n",
       "      <td>1</td>\n",
       "      <td>7</td>\n",
       "    </tr>\n",
       "  </tbody>\n",
       "</table>\n",
       "</div>"
      ],
      "text/plain": [
       "   id  sex  age  age_cat  race  juv_fel_count  decile_score  juv_misd_count  \\\n",
       "2   3    0   34        1     0              0             3               0   \n",
       "3   4    0   24        0     0              0             4               0   \n",
       "4   4    0   24        0     0              0             4               0   \n",
       "5   5    0   23        0     0              0             8               1   \n",
       "8   8    0   41        1     1              0             6               0   \n",
       "\n",
       "   juv_other_count  priors_count c_charge_degree  is_recid  num_days  \n",
       "2                0             0            (F3)         1        10  \n",
       "3                1             4            (F3)         1         2  \n",
       "4                1             4            (F3)         1         2  \n",
       "5                0             1            (F3)         0         0  \n",
       "8                0            14            (F3)         1         7  "
      ]
     },
     "execution_count": 7,
     "metadata": {},
     "output_type": "execute_result"
    }
   ],
   "source": [
    "def age_cat_modifier(x):\n",
    "    \n",
    "    age_cat = {\n",
    "        'Less than 25':0,\n",
    "        '25 - 45':1,\n",
    "        'Greater than 45':2,\n",
    "    }\n",
    "     \n",
    "    for k,v in age_cat.items():\n",
    "        if (k in x):\n",
    "            return v\n",
    "            \n",
    "    return 0\n",
    "df_reduced['age_cat'] = df_reduced['age_cat'].apply(age_cat_modifier)\n",
    "df_reduced.head()"
   ]
  },
  {
   "cell_type": "code",
   "execution_count": 8,
   "metadata": {},
   "outputs": [
    {
     "name": "stdout",
     "output_type": "stream",
     "text": [
      "['(CO3)' '(CT)' '(F1)' '(F2)' '(F3)' '(F5)' '(F6)' '(F7)' '(M1)' '(M2)'\n",
      " '(MO3)' '(NI0)' '(X)'] [   2    1  222 1044 6604   12   14  123 2466  878   97   10    1]\n"
     ]
    },
    {
     "data": {
      "text/plain": [
       "(11364, 13)"
      ]
     },
     "execution_count": 8,
     "metadata": {},
     "output_type": "execute_result"
    }
   ],
   "source": [
    "charges_unique = []\n",
    "for l in df_reduced['c_charge_degree'].dropna():\n",
    "    charges_unique = charges_unique + [l]\n",
    "charges_unique = np.array(charges_unique)\n",
    "charges_unique, counts = np.unique(charges_unique, return_counts=True)\n",
    "print(charges_unique, counts)\n",
    "\n",
    "df_reduced = df_reduced.loc[(df_reduced['c_charge_degree'].isin(['(X)', '(F1)', '(F2)', '(F3)', '(F5)', '(F6)', '(F7)', '(M1)', '(M2)']))]\n",
    "\n",
    "def crime_modifier(x):\n",
    "    \n",
    "    crime_cat = {\n",
    "        '(X)':0,\n",
    "        '(F1)':1, \n",
    "        '(F2)':2,\n",
    "        '(F3)':3,\n",
    "        '(F5)':4,\n",
    "        '(F6)':5,\n",
    "        '(F7)':6,\n",
    "        '(M1)':7,\n",
    "        '(M2)':8\n",
    "    }\n",
    "     \n",
    "    for k,v in crime_cat.items():\n",
    "        if (k in x):\n",
    "            return v\n",
    "            \n",
    "    return 0\n",
    "\n",
    "df_reduced['c_charge_degree'] = df_reduced['c_charge_degree'].apply(crime_modifier)\n",
    "df_reduced.shape"
   ]
  },
  {
   "cell_type": "code",
   "execution_count": 9,
   "metadata": {},
   "outputs": [],
   "source": [
    "compas = df_reduced['decile_score'].to_numpy()\n",
    "df_reduced.drop('decile_score',axis=1,inplace=True)"
   ]
  },
  {
   "cell_type": "code",
   "execution_count": 10,
   "metadata": {},
   "outputs": [
    {
     "data": {
      "text/plain": [
       "((11364, 10), (11364,), (11364,))"
      ]
     },
     "execution_count": 10,
     "metadata": {},
     "output_type": "execute_result"
    }
   ],
   "source": [
    "y=df_reduced['is_recid'].to_numpy()\n",
    "df_reduced_X = df_reduced.drop('is_recid',axis=1)\n",
    "s = df_reduced_X['race'].to_numpy()\n",
    "df_reduced_X.drop('race', axis=1,inplace=True)\n",
    "X = df_reduced_X.to_numpy()\n",
    "X.shape,y.shape,s.shape"
   ]
  },
  {
   "cell_type": "markdown",
   "metadata": {},
   "source": [
    "Importing and Pre-Processing Done. We have X, s and y. Now we move on to **training baseline models**"
   ]
  },
  {
   "cell_type": "code",
   "execution_count": 11,
   "metadata": {},
   "outputs": [
    {
     "data": {
      "text/plain": [
       "((7954, 11), (3410, 11), (7954,), (3410,))"
      ]
     },
     "execution_count": 11,
     "metadata": {},
     "output_type": "execute_result"
    }
   ],
   "source": [
    "X_bs = np.hstack([X,s.reshape(s.shape[0],1)])\n",
    "X_train, X_test, y_train, y_test = train_test_split(X_bs, y, test_size=0.30, random_state=42)\n",
    "X_train.shape, X_test.shape, y_train.shape, y_test.shape"
   ]
  },
  {
   "cell_type": "code",
   "execution_count": 12,
   "metadata": {},
   "outputs": [],
   "source": [
    "import sklearn\n",
    "from sklearn import metrics\n",
    "from sklearn.metrics import accuracy_score, precision_score, recall_score, plot_confusion_matrix, f1_score\n",
    "from sklearn.metrics import confusion_matrix as cm\n",
    "from sklearn.svm import LinearSVC as svm\n",
    "#from sklearn.svm import SVC as svm\n",
    "import matplotlib.pyplot as plt\n",
    "from sklearn.linear_model import LogisticRegression"
   ]
  },
  {
   "cell_type": "code",
   "execution_count": 13,
   "metadata": {},
   "outputs": [],
   "source": [
    "def roc(true_labels, predicted,titles):\n",
    "    fpr, tpr, thresholds = metrics.roc_curve(true_labels, predicted)\n",
    "    roc_auc = metrics.auc(fpr, tpr)\n",
    "    plt.title(titles)\n",
    "    plt.plot(fpr, tpr, 'b', label = 'AUC = %0.4f' % roc_auc)\n",
    "    plt.legend(loc = 'lower right')\n",
    "    plt.plot([0, 1], [0, 1],'r--')\n",
    "    plt.xlim([0, 1])\n",
    "    plt.ylim([0, 1])\n",
    "    plt.ylabel('True Positive Rate')\n",
    "    plt.xlabel('False Positive Rate')\n",
    "    plt.show()\n",
    "    return 1\n",
    "def print_metrics(true_labels, predicted):\n",
    "    def perf_measure(y_actual, y_hat):\n",
    "        TP = 0.0\n",
    "        FP = 0.0\n",
    "        TN = 0.0\n",
    "        FN = 0.0\n",
    "\n",
    "        for i in range(len(y_hat)): \n",
    "            if y_actual[i]==y_hat[i]==1:\n",
    "               TP += 1\n",
    "            if y_hat[i]==1 and y_actual[i]!=y_hat[i]:\n",
    "               FP += 1\n",
    "            if y_actual[i]==y_hat[i]==0:\n",
    "               TN += 1\n",
    "            if y_hat[i]==0 and y_actual[i]!=y_hat[i]:\n",
    "               FN += 1\n",
    "        FPR = FP/(FP+TN)\n",
    "        return FPR\n",
    "    tn, fp, fn, tp = cm(true_labels, predicted).ravel()\n",
    "    fpr = fp/(fp+tn)\n",
    "    print(\"Accuracy:\", accuracy_score(true_labels, predicted))\n",
    "    print(\"Precision:\", precision_score(true_labels, predicted))\n",
    "    print(\"Recall:\", recall_score(true_labels, predicted))\n",
    "    print(\"False Positive Rate\",fpr)# perf_measure(true_labels, predicted))\n",
    "    print(\"F1 Score:\", f1_score(true_labels, predicted))\n",
    "    return 1"
   ]
  },
  {
   "cell_type": "markdown",
   "metadata": {},
   "source": [
    "Logistic Regression is our baseline Model"
   ]
  },
  {
   "cell_type": "code",
   "execution_count": 170,
   "metadata": {},
   "outputs": [
    {
     "name": "stdout",
     "output_type": "stream",
     "text": [
      "Logistic Regression:\n",
      "Accuracy: 0.6818181818181818\n",
      "Precision: 0.6224188790560472\n",
      "Recall: 0.18065068493150685\n",
      "False Positive Rate 0.057091882247992866\n",
      "F1 Score: 0.28002654280026545\n"
     ]
    },
    {
     "data": {
      "image/png": "[encoded data removed]",
      "text/plain": [
       "<Figure size 432x288 with 2 Axes>"
      ]
     },
     "metadata": {
      "needs_background": "light"
     },
     "output_type": "display_data"
    },
    {
     "data": {
      "image/png": "[encoded data removed]",
      "text/plain": [
       "<Figure size 432x288 with 1 Axes>"
      ]
     },
     "metadata": {
      "needs_background": "light"
     },
     "output_type": "display_data"
    },
    {
     "data": {
      "text/plain": [
       "1"
      ]
     },
     "execution_count": 170,
     "metadata": {},
     "output_type": "execute_result"
    }
   ],
   "source": [
    "logisticRegr = LogisticRegression(C=1e7, max_iter=1000)\n",
    "logisticRegr.fit(X_train, y_train)\n",
    "LR_prediction = logisticRegr.predict(X_test)\n",
    "print(\"Logistic Regression:\")\n",
    "print_metrics(y_test, LR_prediction)\n",
    "confusion_matrix = plot_confusion_matrix(logisticRegr, X_test, y_test,cmap=plt.cm.Reds)\n",
    "plt.title(\"Confusion Matrix, Overall Data, Threshold 0.5\")\n",
    "plt.figure()\n",
    "roc(y_test, logisticRegr.predict_proba(X_test)[:,1],\"ROC for Overall Data\")"
   ]
  },
  {
   "cell_type": "markdown",
   "metadata": {},
   "source": [
    "As we can see, this gives this overall performance. But, we don't yet know how it performs on African Americans vs Caucasians separately. Also, we need to use a custom threshold, since COMPAS predicts any person with Medium/High Risk score to be likely to recidivate. Hence, we want to use a threshold that predicts positive for >0.35 (Medium)."
   ]
  },
  {
   "cell_type": "markdown",
   "metadata": {},
   "source": [
    "Separate out African Americans and Caucasians for Comparative Analysis"
   ]
  },
  {
   "cell_type": "code",
   "execution_count": 171,
   "metadata": {},
   "outputs": [],
   "source": [
    "X_test_aa = X_test[X_test[:,10]==0] #african-americans\n",
    "y_test_aa = y_test[X_test[:,10]==0] \n",
    "X_test_c = X_test[X_test[:,10]==1] #caucasians \n",
    "y_test_c = y_test[X_test[:,10]==1]"
   ]
  },
  {
   "cell_type": "markdown",
   "metadata": {},
   "source": [
    "Function to get metrics with custom threshold"
   ]
  },
  {
   "cell_type": "code",
   "execution_count": 172,
   "metadata": {},
   "outputs": [],
   "source": [
    "def predict_thresh(threshold, prob):\n",
    "    if prob>threshold:\n",
    "        return 1\n",
    "    else:\n",
    "        return 0\n",
    "func_final = np.vectorize(predict_thresh)"
   ]
  },
  {
   "cell_type": "markdown",
   "metadata": {},
   "source": [
    "This gets baseline results for the combined dataset at a threshold of 0.35. We will call this setting as the new baseline"
   ]
  },
  {
   "cell_type": "code",
   "execution_count": 173,
   "metadata": {},
   "outputs": [
    {
     "name": "stdout",
     "output_type": "stream",
     "text": [
      "Accuracy: 0.6548387096774193\n",
      "Precision: 0.49659348978046935\n",
      "Recall: 0.5616438356164384\n",
      "False Positive Rate 0.2966101694915254\n",
      "F1 Score: 0.5271193250301326\n"
     ]
    },
    {
     "data": {
      "image/png": "[encoded data removed]",
      "text/plain": [
       "<Figure size 432x288 with 2 Axes>"
      ]
     },
     "metadata": {
      "needs_background": "light"
     },
     "output_type": "display_data"
    },
    {
     "data": {
      "image/png": "[encoded data removed]",
      "text/plain": [
       "<Figure size 432x288 with 1 Axes>"
      ]
     },
     "metadata": {
      "needs_background": "light"
     },
     "output_type": "display_data"
    },
    {
     "data": {
      "text/plain": [
       "1"
      ]
     },
     "execution_count": 173,
     "metadata": {},
     "output_type": "execute_result"
    }
   ],
   "source": [
    "LR_probs = logisticRegr.predict_proba(X_test)[:,1]\n",
    "thres = np.repeat(0.35,LR_probs.shape)\n",
    "LR_prediction = func_final(thres,LR_probs)\n",
    "print_metrics(y_test, LR_prediction)\n",
    "confusion_matrix = plot_confusion_matrix(logisticRegr, X_test, y_test,cmap=plt.cm.Reds)\n",
    "plt.title(\"Confusion Matrix, Baseline, Overall Data, Threshold 0.35\")\n",
    "plt.figure()\n",
    "roc(y_test, logisticRegr.predict_proba(X_test)[:,1],\"Baseline ROC for Overall Data\")"
   ]
  },
  {
   "cell_type": "markdown",
   "metadata": {},
   "source": [
    "This gives baseline results for African Americans"
   ]
  },
  {
   "cell_type": "code",
   "execution_count": 174,
   "metadata": {},
   "outputs": [
    {
     "name": "stdout",
     "output_type": "stream",
     "text": [
      "Logistic Regression: Baseline, African Americans\n",
      "Accuracy: 0.6194430874450415\n",
      "Precision: 0.49096098953377737\n",
      "Recall: 0.6789473684210526\n",
      "False Positive Rate 0.4156954156954157\n",
      "F1 Score: 0.5698509110988405\n"
     ]
    },
    {
     "data": {
      "image/png": "[encoded data removed]",
      "text/plain": [
       "<Figure size 432x288 with 2 Axes>"
      ]
     },
     "metadata": {
      "needs_background": "light"
     },
     "output_type": "display_data"
    },
    {
     "data": {
      "image/png": "[encoded data removed]",
      "text/plain": [
       "<Figure size 432x288 with 1 Axes>"
      ]
     },
     "metadata": {
      "needs_background": "light"
     },
     "output_type": "display_data"
    },
    {
     "data": {
      "text/plain": [
       "1"
      ]
     },
     "execution_count": 174,
     "metadata": {},
     "output_type": "execute_result"
    }
   ],
   "source": [
    "LR_probs = logisticRegr.predict_proba(X_test_aa)[:,1]\n",
    "thres = np.repeat(0.35,LR_probs.shape)\n",
    "LR_prediction = func_final(thres,LR_probs)\n",
    "print(\"Logistic Regression: Baseline, African Americans\")\n",
    "print_metrics(y_test_aa, LR_prediction)\n",
    "confusion_matrix = plot_confusion_matrix(logisticRegr, X_test_aa, y_test_aa,cmap=plt.cm.Reds)\n",
    "plt.title(\"Confusion Matrix, Baseline, African Americans, Threshold 0.35\")\n",
    "plt.figure()\n",
    "roc(y_test_aa, logisticRegr.predict_proba(X_test_aa)[:,1],\"Baseline ROC for African Americans\")"
   ]
  },
  {
   "cell_type": "markdown",
   "metadata": {},
   "source": [
    "This gives baseline results for Caucasians"
   ]
  },
  {
   "cell_type": "code",
   "execution_count": 175,
   "metadata": {},
   "outputs": [
    {
     "name": "stdout",
     "output_type": "stream",
     "text": [
      "Logistic Regression: Baseline, Caucasians\n",
      "Accuracy: 0.7079970652971387\n",
      "Precision: 0.5185185185185185\n",
      "Recall: 0.3431372549019608\n",
      "False Positive Rate 0.13612565445026178\n",
      "F1 Score: 0.41297935103244837\n"
     ]
    },
    {
     "data": {
      "image/png": "[encoded data removed]",
      "text/plain": [
       "<Figure size 432x288 with 2 Axes>"
      ]
     },
     "metadata": {
      "needs_background": "light"
     },
     "output_type": "display_data"
    },
    {
     "data": {
      "image/png": "[encoded data removed]",
      "text/plain": [
       "<Figure size 432x288 with 1 Axes>"
      ]
     },
     "metadata": {
      "needs_background": "light"
     },
     "output_type": "display_data"
    },
    {
     "data": {
      "text/plain": [
       "1"
      ]
     },
     "execution_count": 175,
     "metadata": {},
     "output_type": "execute_result"
    }
   ],
   "source": [
    "LR_probs = logisticRegr.predict_proba(X_test_c)[:,1]\n",
    "thres = np.repeat(0.35,LR_probs.shape)\n",
    "LR_prediction = func_final(thres,LR_probs)\n",
    "print(\"Logistic Regression: Baseline, Caucasians\")\n",
    "print_metrics(y_test_c, LR_prediction)\n",
    "confusion_matrix = plot_confusion_matrix(logisticRegr, X_test_c, y_test_c,cmap=plt.cm.Reds)\n",
    "plt.title(\"Confusion Matrix, Baseline, African Americans, Threshold 0.35\")\n",
    "plt.figure()\n",
    "roc(y_test_c, logisticRegr.predict_proba(X_test_c)[:,1],\"Baseline ROC for African Americans\")"
   ]
  },
  {
   "cell_type": "markdown",
   "metadata": {},
   "source": [
    "We also see what the results for the compas predictions were. They give a decile score which we binarize to draw comparisons"
   ]
  },
  {
   "cell_type": "code",
   "execution_count": 176,
   "metadata": {},
   "outputs": [
    {
     "data": {
      "text/plain": [
       "((11364,), (11364,))"
      ]
     },
     "execution_count": 176,
     "metadata": {},
     "output_type": "execute_result"
    }
   ],
   "source": [
    "compas.shape, y.shape"
   ]
  },
  {
   "cell_type": "code",
   "execution_count": 190,
   "metadata": {},
   "outputs": [
    {
     "name": "stdout",
     "output_type": "stream",
     "text": [
      "Accuracy: 0.5533262935586061\n",
      "Precision: 0.4086586231369766\n",
      "Recall: 0.7598310899973608\n",
      "False Positive Rate 0.54996699669967\n",
      "F1 Score: 0.5314749861546982\n"
     ]
    },
    {
     "data": {
      "text/plain": [
       "1"
      ]
     },
     "execution_count": 190,
     "metadata": {},
     "output_type": "execute_result"
    }
   ],
   "source": [
    "thres = np.repeat(3,compas.shape)\n",
    "LR_prediction = func_final(thres,compas)\n",
    "unique, counts = np.unique(LR_prediction, return_counts=True)\n",
    "print_metrics(y, LR_prediction)"
   ]
  },
  {
   "cell_type": "code",
   "execution_count": 196,
   "metadata": {},
   "outputs": [],
   "source": [
    "compas_x = np.hstack([X,s.reshape(-1,1)])\n",
    "y_aa = y[compas_x[:,10]==0]\n",
    "y_c = y[compas_x[:,10]==1]\n",
    "compas_aa = compas[compas_x[:,10]==0]\n",
    "compas_c = compas[compas_x[:,10]==1]"
   ]
  },
  {
   "cell_type": "code",
   "execution_count": 194,
   "metadata": {},
   "outputs": [
    {
     "name": "stdout",
     "output_type": "stream",
     "text": [
      "Accuracy: 0.5220199647680563\n",
      "Precision: 0.42422360248447205\n",
      "Recall: 0.8118066561014263\n",
      "False Positive Rate 0.648554104477612\n",
      "F1 Score: 0.5572477563230894\n"
     ]
    },
    {
     "data": {
      "text/plain": [
       "1"
      ]
     },
     "execution_count": 194,
     "metadata": {},
     "output_type": "execute_result"
    }
   ],
   "source": [
    "thres = np.repeat(3,compas_aa.shape)\n",
    "LR_prediction = func_final(thres,compas_aa)\n",
    "print_metrics(y_aa, LR_prediction)"
   ]
  },
  {
   "cell_type": "code",
   "execution_count": 195,
   "metadata": {},
   "outputs": [
    {
     "name": "stdout",
     "output_type": "stream",
     "text": [
      "Accuracy: 0.6001757469244289\n",
      "Precision: 0.3747178329571106\n",
      "Recall: 0.6561264822134387\n",
      "False Positive Rate 0.42135686035898995\n",
      "F1 Score: 0.47701149425287354\n"
     ]
    },
    {
     "data": {
      "text/plain": [
       "1"
      ]
     },
     "execution_count": 195,
     "metadata": {},
     "output_type": "execute_result"
    }
   ],
   "source": [
    "thres = np.repeat(3,compas_c.shape)\n",
    "LR_prediction = func_final(thres,compas_c)\n",
    "print_metrics(y_c, LR_prediction)"
   ]
  },
  {
   "cell_type": "markdown",
   "metadata": {},
   "source": [
    "As we can see, there is a big difference in Equalized Odds values. Hence we try two methods: 1. the naive unawareness method and 2. The variational fair autoencoder method"
   ]
  },
  {
   "cell_type": "markdown",
   "metadata": {},
   "source": [
    "1. **Unwareness**"
   ]
  },
  {
   "cell_type": "code",
   "execution_count": 179,
   "metadata": {},
   "outputs": [
    {
     "name": "stdout",
     "output_type": "stream",
     "text": [
      "(3410, 10) (7954, 10)\n"
     ]
    }
   ],
   "source": [
    "X_train_unaware = np.delete(X_train,10, axis=1)\n",
    "X_test_unaware = np.delete(X_test, 10, axis=1)\n",
    "print(X_test_unaware.shape, X_train_unaware.shape)"
   ]
  },
  {
   "cell_type": "code",
   "execution_count": 180,
   "metadata": {},
   "outputs": [],
   "source": [
    "X_test_unaware_aa = X_test_unaware[X_test[:,10]==0]\n",
    "X_test_unaware_c = X_test_unaware[X_test[:,10]==1]"
   ]
  },
  {
   "cell_type": "code",
   "execution_count": 181,
   "metadata": {},
   "outputs": [
    {
     "name": "stdout",
     "output_type": "stream",
     "text": [
      "Logistic Regression, Unaware, Overall Data\n",
      "Accuracy: 0.6592375366568914\n",
      "Precision: 0.5023847376788553\n",
      "Recall: 0.541095890410959\n",
      "False Positive Rate 0.2792149866190901\n",
      "F1 Score: 0.5210222588623249\n"
     ]
    },
    {
     "data": {
      "image/png": "[encoded data removed]",
      "text/plain": [
       "<Figure size 432x288 with 2 Axes>"
      ]
     },
     "metadata": {
      "needs_background": "light"
     },
     "output_type": "display_data"
    },
    {
     "data": {
      "image/png": "[encoded data removed]",
      "text/plain": [
       "<Figure size 432x288 with 1 Axes>"
      ]
     },
     "metadata": {
      "needs_background": "light"
     },
     "output_type": "display_data"
    },
    {
     "data": {
      "text/plain": [
       "1"
      ]
     },
     "execution_count": 181,
     "metadata": {},
     "output_type": "execute_result"
    }
   ],
   "source": [
    "logisticRegr = LogisticRegression(C=1e7, max_iter=1000)\n",
    "logisticRegr.fit(X_train_unaware, y_train)\n",
    "#LR_prediction = logisticRegr.predict(X_test_unaware)\n",
    "LR_probs = logisticRegr.predict_proba(X_test_unaware)[:,1]\n",
    "thres = np.repeat(0.35,LR_probs.shape)\n",
    "LR_prediction = func_final(thres,LR_probs)\n",
    "print(\"Logistic Regression, Unaware, Overall Data\")\n",
    "print_metrics(y_test, LR_prediction)\n",
    "confusion_matrix = plot_confusion_matrix(logisticRegr, X_test_unaware, y_test,cmap=plt.cm.Reds)\n",
    "plt.title(\"Confusion Matrix, Unaware, Overall Data\")\n",
    "plt.figure()\n",
    "roc(y_test, logisticRegr.predict_proba(X_test_unaware)[:,1],\"ROC, Unaware, Overall Data\")"
   ]
  },
  {
   "cell_type": "code",
   "execution_count": 182,
   "metadata": {},
   "outputs": [
    {
     "name": "stdout",
     "output_type": "stream",
     "text": [
      "Logistic Regression: Unaware, African Americans\n",
      "Accuracy: 0.6316560820713238\n",
      "Precision: 0.5032397408207343\n",
      "Recall: 0.6131578947368421\n",
      "False Positive Rate 0.35742035742035744\n",
      "F1 Score: 0.5527876631079478\n"
     ]
    },
    {
     "data": {
      "image/png": "[encoded data removed]",
      "text/plain": [
       "<Figure size 432x288 with 2 Axes>"
      ]
     },
     "metadata": {
      "needs_background": "light"
     },
     "output_type": "display_data"
    },
    {
     "data": {
      "image/png": "[encoded data removed]",
      "text/plain": [
       "<Figure size 432x288 with 1 Axes>"
      ]
     },
     "metadata": {
      "needs_background": "light"
     },
     "output_type": "display_data"
    },
    {
     "data": {
      "text/plain": [
       "1"
      ]
     },
     "execution_count": 182,
     "metadata": {},
     "output_type": "execute_result"
    }
   ],
   "source": [
    "LR_probs = logisticRegr.predict_proba(X_test_unaware_aa)[:,1]\n",
    "thres = np.repeat(0.35,LR_probs.shape)\n",
    "LR_prediction = func_final(thres,LR_probs)\n",
    "print(\"Logistic Regression: Unaware, African Americans\")\n",
    "print_metrics(y_test_aa, LR_prediction)\n",
    "confusion_matrix = plot_confusion_matrix(logisticRegr, X_test_unaware_aa, y_test_aa,cmap=plt.cm.Reds)\n",
    "plt.title(\"Confusion Matrix, Unaware, African Americans\")\n",
    "plt.figure()\n",
    "roc(y_test_aa, logisticRegr.predict_proba(X_test_unaware_aa)[:,1],\"ROC, Unaware, African Americans\")"
   ]
  },
  {
   "cell_type": "code",
   "execution_count": 183,
   "metadata": {},
   "outputs": [
    {
     "name": "stdout",
     "output_type": "stream",
     "text": [
      "Logistic Regression: Unaware, Caucasians\n",
      "Accuracy: 0.7006603081438004\n",
      "Precision: 0.5\n",
      "Recall: 0.4068627450980392\n",
      "False Positive Rate 0.17382198952879582\n",
      "F1 Score: 0.4486486486486487\n"
     ]
    },
    {
     "data": {
      "image/png": "[encoded data removed]",
      "text/plain": [
       "<Figure size 432x288 with 2 Axes>"
      ]
     },
     "metadata": {
      "needs_background": "light"
     },
     "output_type": "display_data"
    },
    {
     "data": {
      "image/png": "[encoded data removed]",
      "text/plain": [
       "<Figure size 432x288 with 1 Axes>"
      ]
     },
     "metadata": {
      "needs_background": "light"
     },
     "output_type": "display_data"
    },
    {
     "data": {
      "text/plain": [
       "1"
      ]
     },
     "execution_count": 183,
     "metadata": {},
     "output_type": "execute_result"
    }
   ],
   "source": [
    "LR_probs = logisticRegr.predict_proba(X_test_unaware_c)[:,1]\n",
    "thres = np.repeat(0.35,LR_probs.shape)\n",
    "LR_prediction = func_final(thres,LR_probs)\n",
    "print(\"Logistic Regression: Unaware, Caucasians\")\n",
    "print_metrics(y_test_c, LR_prediction)\n",
    "confusion_matrix = plot_confusion_matrix(logisticRegr, X_test_unaware_c, y_test_c,cmap=plt.cm.Reds)\n",
    "plt.title(\"Confusion Matrix, Unaware, Caucasians\")\n",
    "plt.figure()\n",
    "roc(y_test_c, logisticRegr.predict_proba(X_test_unaware_c)[:,1],\"ROC, Unaware, Causcasians\")"
   ]
  },
  {
   "cell_type": "markdown",
   "metadata": {},
   "source": [
    "Now we try the VFAE model"
   ]
  },
  {
   "cell_type": "code",
   "execution_count": 129,
   "metadata": {},
   "outputs": [
    {
     "name": "stdout",
     "output_type": "stream",
     "text": [
      "(11364, 12)\n",
      "[0. 1.]\n",
      "(7954, 1, 12) (3410, 1, 12) (3410, 1)\n"
     ]
    }
   ],
   "source": [
    "X_full = np.hstack([X,s.reshape(-1,1),y.reshape(-1,1)])\n",
    "print(X_full.shape)\n",
    "scalar = MinMaxScaler()\n",
    "X_full = scalar.fit_transform(X_full)\n",
    "X_train, X_test = train_test_split(X_full, test_size=0.30, random_state=42)\n",
    "X_train = X_train.reshape(X_train.shape[0],1,X_train.shape[1])\n",
    "X_test = X_test.reshape(X_test.shape[0],1,X_test.shape[1])\n",
    "y_true = np.copy(X_test[:,:,X_test.shape[2]-1])\n",
    "print(np.unique(y_true))\n",
    "X_test[:,:,X_test.shape[2]-1] = -8*np.ones_like(y_true)\n",
    "print(X_train.shape,X_test.shape, y_true.shape)"
   ]
  },
  {
   "cell_type": "code",
   "execution_count": 15,
   "metadata": {},
   "outputs": [
    {
     "name": "stderr",
     "output_type": "stream",
     "text": [
      "Using TensorFlow backend.\n"
     ]
    }
   ],
   "source": [
    "import tensorflow as tf\n",
    "from keras.layers import Input, Dense, Lambda\n",
    "from keras.models import Model\n",
    "from keras.objectives import binary_crossentropy\n",
    "import keras.backend as K\n",
    "from tensorflow.keras.layers import Concatenate, concatenate\n",
    "import keras"
   ]
  },
  {
   "cell_type": "code",
   "execution_count": 16,
   "metadata": {},
   "outputs": [],
   "source": [
    "dims = {\n",
    "    'input': 9,\n",
    "    'z1_enc_hidden': 20,\n",
    "    'z1_enc' : 8,\n",
    "    'z2_enc_hidden': 20,\n",
    "    'z2_enc' : 8,\n",
    "    'z1_dec_hidden': 20,\n",
    "    'z1_dec': 8,\n",
    "    'z2_dec_hidden': 20,\n",
    "    'z2_dec': 10,\n",
    "    'y_hidden': 20,\n",
    "    'y': 1,\n",
    "    'D': 100,\n",
    "    'gamma':1,\n",
    "    'beta':10,\n",
    "    'alpha':0.1,\n",
    "    'recon_rate':0.1,\n",
    "    'lhx':1\n",
    "       }"
   ]
  },
  {
   "cell_type": "code",
   "execution_count": 19,
   "metadata": {},
   "outputs": [],
   "source": [
    "def vfae_model(inputs):\n",
    "    #input is [X,s,y] 1,11\n",
    "    \n",
    "    def gather(args):\n",
    "        a,b = args\n",
    "        out = tf.gather(a,b,axis=2)\n",
    "        return out\n",
    "    def concat(args):\n",
    "        a,b = args\n",
    "        return tf.concat([a,b],axis=2)\n",
    "    def sample(args):\n",
    "        mu, log_sigma, eps = args\n",
    "        exp = Lambda(lambda x:  tf.exp(x / 2))(log_sigma)\n",
    "        return mu + exp * eps\n",
    "    def KL(mu1,log_sigma_sq1,mu2=0.,log_sigma_sq2=0.):\n",
    "        return 0.5*tf.reduce_sum(log_sigma_sq2-log_sigma_sq1-1+(tf.exp(log_sigma_sq1)+tf.pow(mu1-mu2,2))/tf.exp(log_sigma_sq2),axis=1)\n",
    "\n",
    "    def psi(x):\n",
    "        W = tf.Variable(tf.random.normal([dims['z1_enc'],dims['D']], \n",
    "                             stddev=tf.sqrt(0.5 / float(dims['z1_enc'])),\n",
    "                             dtype=tf.float32))\n",
    "        b = tf.Variable(tf.random.uniform([dims['D']],0,2*np.pi,dtype=tf.float32))\n",
    "        return tf.pow(2./dims['D'],0.5)*tf.cos(tf.pow(2./dims['gamma'],0.5)*tf.matmul(x,W) + b)\n",
    "    \n",
    "    def fast_MMD(x1,x2):\n",
    "        inner_difference = tf.reduce_mean(psi(x1),axis=0) - tf.reduce_mean(psi(x2),axis=0)\n",
    "        return tf.tensordot(inner_difference,inner_difference,axes=1)\n",
    "\n",
    "    def boolean_masking(t,s):\n",
    "        return tf.boolean_mask(t,tf.tile(tf.cast(s,tf.bool),[1,tf.shape(t)[1]]))\n",
    "    \n",
    "    def reshaping_MMD(mmd,z):\n",
    "        return tf.reshape(mmd,[tf.cast(tf.shape(mmd)[0]/tf.shape(z)[1],tf.int32),tf.shape(z)[1]])\n",
    "    \n",
    "    def total_MMD(z,s):\n",
    "        z = tf.reshape(z, (tf.shape(z)[0],8))\n",
    "        s = tf.reshape(s, (tf.shape(s)[0],1))\n",
    "        a1 = boolean_masking(z,s)\n",
    "        a2 = boolean_masking(z,1-s)\n",
    "        b1 = reshaping_MMD(a1,z)\n",
    "        b2 = reshaping_MMD(a2,z)\n",
    "        mmd = fast_MMD(b1,b2)\n",
    "        return mmd\n",
    "        \n",
    "    indices = Lambda(lambda x: tf.range(dims['input']))(inputs)\n",
    "    x_net = Lambda(gather)([inputs,indices])\n",
    "    indices2 = Lambda(lambda x: tf.constant(dims['input']))(inputs)\n",
    "    s_net = Lambda(gather)([inputs, indices2])\n",
    "    s_net = Lambda(lambda x: tf.expand_dims(x,axis=1))(s_net)\n",
    "    indices3 = Lambda(lambda x: tf.constant(dims['input']+1))(inputs)\n",
    "    y_net = Lambda(gather)([inputs, indices3])\n",
    "    y_net = Lambda(lambda x: tf.expand_dims(x,axis=1))(y_net)\n",
    "    \n",
    "    tester = Lambda(lambda t: -8*tf.ones_like(y_net))(inputs)\n",
    "    check = Lambda(lambda t: tf.cast(tf.keras.backend.equal(tester, y_net),dtype=tf.int32))(inputs)\n",
    "    check2 = Lambda(lambda t: tf.cast(tf.reduce_mean(check)==tf.constant(1),dtype=tf.int32))(inputs)\n",
    "    #c = tf.keras.backend.equal(a,b)\n",
    "    #c_new = tf.cast(c, dtype=tf.int32)\n",
    "    #d = tf.reduce_mean(c_new)==tf.constant(1)\n",
    "    #if check2.output == 1:\n",
    "     #   print(\"hell yeah\")\n",
    "    \n",
    "    '''Encoder 1'''\n",
    "    inputs_in = Lambda(concat)([x_net,s_net])\n",
    "    h_q_z1 = Dense(dims['z1_enc_hidden'], activation='relu')(inputs_in)\n",
    "    mu_z1 = Dense(dims['z1_enc'], activation='linear')(h_q_z1)\n",
    "    log_sigma_z1 = Dense(dims['z1_enc'], activation='linear')(h_q_z1)\n",
    "    \n",
    "    '''sampling encoder 1'''\n",
    "    eps1 = Lambda(lambda args: tf.random.normal(shape=(dims['z1_enc'],), mean=0., stddev=1.))(inputs)\n",
    "    z_1_enc = Lambda(sample)([mu_z1, log_sigma_z1, eps1])\n",
    "    \n",
    "    '''y'''\n",
    "    h_q_y_us = Dense(dims['y_hidden'], activation='relu')(z_1_enc)\n",
    "    mu_us = Dense(dims['y'], activation='sigmoid')(h_q_y_us) #mu_y_us \n",
    "    log_sigma_us = Dense(dims['y'], activation='sigmoid')(h_q_y_us)\n",
    "    \n",
    "    '''sampling y'''\n",
    "    eps6 = Lambda(lambda args: tf.random.normal(shape=(dims['y'],), mean=0., stddev=1.))(inputs)\n",
    "    y_us = Lambda(sample)([mu_us, log_sigma_us, eps6])\n",
    "    print(y_net.get_shape(),y_us.get_shape())\n",
    "    \n",
    "    '''\n",
    "    if(mode=='test'):\n",
    "        y_net = y_us\n",
    "        print(\"I should be here\")\n",
    "    '''\n",
    "        \n",
    "    y_net = Lambda(lambda t: tf.cond(check2 == tf.constant(1), lambda: y_us, lambda: y_net))(inputs)\n",
    "    print(y_net.get_shape())\n",
    "    '''Encoder 2'''\n",
    "    new_input = Lambda(concat)([z_1_enc,y_net])\n",
    "    h_q_z2 = Dense(dims['z2_enc_hidden'], activation='relu')(new_input)\n",
    "    mu_z2 = Dense(dims['z2_enc'], activation='linear')(h_q_z2)\n",
    "    log_sigma_z2 = Dense(dims['z2_enc'], activation='linear')(h_q_z2)\n",
    "    \n",
    "    '''sampling encoder 2'''\n",
    "    eps2 = Lambda(lambda args: tf.random.normal(shape=(dims['z2_enc'],), mean=0., stddev=1.))(inputs)\n",
    "    z_2_enc = Lambda(sample)([mu_z2, log_sigma_z2,eps2])\n",
    "    \n",
    "    #print(\"not here\")\n",
    "    '''Decoder 1'''\n",
    "    newer_input = Lambda(concat)([z_2_enc,y_net])\n",
    "    h_q_z1_dec = Dense(dims['z1_dec_hidden'], activation='relu')(newer_input)\n",
    "    mu_z1_dec = Dense(dims['z1_dec'], activation='linear')(h_q_z1_dec)\n",
    "    log_sigma_z1_dec = Dense(dims['z1_dec'], activation='linear')(h_q_z1_dec)\n",
    "    \n",
    "    '''sampling posterior z1 or decoder 1'''\n",
    "    eps3 = Lambda(lambda args: tf.random.normal(shape=(dims['z1_dec'],), mean=0., stddev=1.))(inputs)\n",
    "    z_1_dec = Lambda(sample)([mu_z1_dec, log_sigma_z1_dec,eps3])\n",
    "    \n",
    "    '''Decoder 2'''\n",
    "    final_input = Lambda(concat)([z_1_dec,s_net])\n",
    "    h_q_z2_dec = Dense(dims['z2_dec_hidden'], activation='relu')(final_input)\n",
    "    x_out = Dense(dims['z2_dec'], activation='softmax')(h_q_z2_dec) #mu_z2_dec \n",
    "    print(x_out.get_shape())\n",
    "\n",
    "    output = Lambda(concat)([x_out,y_us])\n",
    "    print(output.get_shape())\n",
    "    \n",
    "    #MMD_x1 = Lambda(boolean_masking)(z_1_enc, s_net)\n",
    "    #MMD_x2 = Lambda(boolean_masking)(z_1_enc, 1-s_net)\n",
    "    #MMD_x1 = Lambda(reshaping_mmd)(MMD_x1, z_1_enc)\n",
    "    #MMD_x2 = Lambda(reshaping_mmd)(MMD_x2, z_1_enc)\n",
    "    \n",
    "    #MMD_x1 = tf.boolean_mask(z1_enc,tf.tile(tf.cast(s_net,tf.bool),[1,tf.shape(z1_enc)[1]]))\n",
    "    #MMD_x2 = tf.boolean_mask(z1_enc,tf.tile(tf.cast(1-s_net,tf.bool),[1,tf.shape(z1_enc)[1]]))\n",
    "    #MMD = fast_MMD(tf.reshape(MMD_x1,[tf.cast(tf.shape(MMD_x1)[0]/tf.shape(z1_enc)[1],tf.int32),tf.shape(z1_enc)[1]]),\n",
    "                  # tf.reshape(MMD_x2,[tf.cast(tf.shape(MMD_x2)[0]/tf.shape(z1_enc)[1],tf.int32),tf.shape(z1_enc)[1]]),\n",
    "                  #params)\n",
    "    #MMD = Lambda(fast_MMD)(MMD_x1,MMD_x2)\n",
    "    \n",
    "    #print(z_1_enc.get_shape(), s_net.get_shape())\n",
    "    #z_1_enc = Lambda(lambda t: tf.reshape(z_1_enc, (tf.shape(z_1_enc)[0],8)))(inputs)\n",
    "    #s_net = Lambda(lambda t: tf.reshape(s_net, (tf.shape(s_net)[0],1)))(inputs)\n",
    "    #print(z_1_enc.get_shape(), s_net.get_shape())\n",
    "    #MMD_x1 = reshaping_MMD(boolean_masking(z_1_enc, s_net),z_1_enc)\n",
    "    #MMD_x2 = reshaping_MMD(boolean_masking(z_1_enc, 1-s_net),z_1_enc)\n",
    "    #MMD = fast_MMD(reshaping_MMD(boolean_masking(z_1_enc, s_net),z_1_enc), reshaping_MMD(boolean_masking(z_1_enc, 1-s_net),z_1_enc))\n",
    "    \n",
    "    MMD = total_MMD(z_1_enc, s_net)\n",
    "    KL_z1 = KL(mu_z1,log_sigma_z1,mu_z1_dec,log_sigma_z1_dec)\n",
    "    KL_z2 = KL(mu_z2,log_sigma_z2)\n",
    "    \n",
    "    return output, KL_z1, KL_z2, MMD\n",
    "    "
   ]
  },
  {
   "cell_type": "code",
   "execution_count": 20,
   "metadata": {},
   "outputs": [],
   "source": [
    "inputs = Input(shape=(1,dims['input']+2))"
   ]
  },
  {
   "cell_type": "code",
   "execution_count": 21,
   "metadata": {},
   "outputs": [
    {
     "name": "stdout",
     "output_type": "stream",
     "text": [
      "(None, 1, 1) (None, 1, 1)\n",
      "(None, 1, 1)\n",
      "(None, 1, 10)\n",
      "(None, 1, 11)\n"
     ]
    }
   ],
   "source": [
    "outputs, KL_z1, KL_z2, MMD = vfae_model(inputs)\n",
    "tf.keras.backend.print_tensor(outputs[1])\n",
    "vfae = Model(inputs,outputs)"
   ]
  },
  {
   "cell_type": "code",
   "execution_count": 22,
   "metadata": {},
   "outputs": [],
   "source": [
    "#@tf.function\n",
    "#def loss_big(KL_z1, KL_z2, MMD):\n",
    "@tf.function\n",
    "def vfae_loss(y_true, y_pred):\n",
    "    #y_true and y_pred are the full things\n",
    "        \n",
    "    x_s = y_true[:,:,:-1]#,tf.range(dims['input']+1),axis=2) #this is x and s\n",
    "    x_out =  y_pred[:,:,:-1] #tf.gather(y_pred,tf.range(dims['input']+1),axis=2) #this is xout\n",
    "    tf.print(x_s.get_shape(),x_out.get_shape())\n",
    "    LH_x = tf.reduce_sum(x_s * tf.math.log(1e-10+(x_out)) + (1 - x_s) * tf.math.log(1e-10+ (1 - x_out)),axis=1)\n",
    "    #tf.print(LH_x)\n",
    "        \n",
    "    #y = tf.gather(y_true,dims['input']+1,axis=2) #this is y\n",
    "    #y_us = tf.gather(y_pred,dims['input']+1,axis=2) #this is y_us\n",
    "        \n",
    "    #y = y_true[:,0,-1]\n",
    "    #y_us = y_pred[:,0,-1]\n",
    "    recon = dims['recon_rate']*tf.reduce_sum(tf.keras.losses.binary_crossentropy(y_pred[:,:,-1], y_true[:,:,-1]))#, axis=1)\n",
    "    #index = tf.range(tf.shape(y)[0])  \n",
    "    #idx = tf.stack([index[:, tf.newaxis], tf.cast(y,tf.int32)], axis=-1)\n",
    "    #LH_y = tf.reduce_sum(tf.math.log(1e-10+y_us))\n",
    "    #LH_y = tf.reduce_sum(y * tf.math.log(1e-10+(y_us)) + (1 - y) * tf.math.log(1e-10+ (1 - y_us)))\n",
    "    mmd = 10*MMD\n",
    "    #tf.print(tf.reduce_mean(KL_z1),tf.reduce_mean(KL_z2),tf.reduce_mean(LH_x),recon)\n",
    "    \n",
    "    '''\n",
    "        tf.print(LH_y.get_shape())\n",
    "        tf.keras.backend.print_tensor(LH_y.get_shape())\n",
    "        \n",
    "    '''\n",
    "        \n",
    "    #LH_x = keras.losses.mean_squared_error(y_true[:,:,:-1], y_pred[:,:,:-1])\n",
    "    #LH_y = keras.losses.mean_squared_error(y_true[:,:,-1], y_pred[:,:,-1])\n",
    "    loss = -(-tf.reduce_mean(KL_z1)-tf.reduce_mean(KL_z2)+dims['lhx']*tf.reduce_mean(LH_x))#- dims['alpha']*tf.reduce_mean(LH_y)) #+tf.reduce_mean(LH_x)\n",
    "    #bla = y_true-y_pred\n",
    "    #mmd = dims['beta']*MMD\n",
    "    return (loss+recon)"
   ]
  },
  {
   "cell_type": "code",
   "execution_count": 208,
   "metadata": {},
   "outputs": [],
   "source": [
    "vfae.compile(optimizer='adam', loss=vfae_loss)"
   ]
  },
  {
   "cell_type": "code",
   "execution_count": 209,
   "metadata": {},
   "outputs": [
    {
     "name": "stdout",
     "output_type": "stream",
     "text": [
      "Train on 6363 samples, validate on 1591 samples\n",
      "Epoch 1/10\n",
      "6363/6363 [==============================] - 5s 817us/step - loss: 350.4813 - val_loss: 302.0763\n",
      "Epoch 2/10\n",
      "6363/6363 [==============================] - 1s 172us/step - loss: 307.1652 - val_loss: 291.8384\n",
      "Epoch 3/10\n",
      "6363/6363 [==============================] - 1s 175us/step - loss: 304.0375 - val_loss: 290.4087\n",
      "Epoch 4/10\n",
      "6363/6363 [==============================] - 1s 178us/step - loss: 302.5610 - val_loss: 289.2449\n",
      "Epoch 5/10\n",
      "6363/6363 [==============================] - 1s 196us/step - loss: 301.8075 - val_loss: 288.9752\n",
      "Epoch 6/10\n",
      "6363/6363 [==============================] - 1s 180us/step - loss: 301.0819 - val_loss: 288.6105\n",
      "Epoch 7/10\n",
      "6363/6363 [==============================] - 1s 190us/step - loss: 300.9908 - val_loss: 288.0757\n",
      "Epoch 8/10\n",
      "6363/6363 [==============================] - 1s 198us/step - loss: 301.1553 - val_loss: 288.0227\n",
      "Epoch 9/10\n",
      "6363/6363 [==============================] - 1s 193us/step - loss: 300.8526 - val_loss: 287.9254\n",
      "Epoch 10/10\n",
      "6363/6363 [==============================] - 1s 190us/step - loss: 300.4926 - val_loss: 287.6894\n"
     ]
    }
   ],
   "source": [
    "history = vfae.fit(X_train, X_train, validation_split=0.2,batch_size=50, epochs=10)\n",
    "#tf.keras.backend.print_tensor(outputs[1])"
   ]
  },
  {
   "cell_type": "code",
   "execution_count": 1721,
   "metadata": {},
   "outputs": [
    {
     "name": "stdout",
     "output_type": "stream",
     "text": [
      "Running for hidden_dims = 10, latent_dims = 10, recon_rate = 0.1, lhx = 0.1, batch_size = 50\n",
      "Validation loss for hidden_dims = 10, latent_dims = 10, recon_rate = 0.1, lhx = 0.1, batch_size = 50 is  = [24.727263349320886, 24.759534610434194, 24.709969437249722]\n",
      "Running for hidden_dims = 10, latent_dims = 10, recon_rate = 0.1, lhx = 1, batch_size = 50\n",
      "Validation loss for hidden_dims = 10, latent_dims = 10, recon_rate = 0.1, lhx = 1, batch_size = 50 is  = [24.713515163591865, 24.706380633121015, 24.689259001026358]\n",
      "Running for hidden_dims = 10, latent_dims = 10, recon_rate = 0.1, lhx = 10, batch_size = 50\n",
      "Validation loss for hidden_dims = 10, latent_dims = 10, recon_rate = 0.1, lhx = 10, batch_size = 50 is  = [24.718951743777485, 24.712133702506517, 24.701063510983488]\n",
      "Running for hidden_dims = 10, latent_dims = 10, recon_rate = 1, lhx = 0.1, batch_size = 50\n",
      "Validation loss for hidden_dims = 10, latent_dims = 10, recon_rate = 1, lhx = 0.1, batch_size = 50 is  = [24.720061083397425, 24.70796132162635, 24.743969871142163]\n",
      "Running for hidden_dims = 10, latent_dims = 10, recon_rate = 1, lhx = 1, batch_size = 50\n",
      "Validation loss for hidden_dims = 10, latent_dims = 10, recon_rate = 1, lhx = 1, batch_size = 50 is  = [24.719211212724055, 24.766205054570264, 24.657174254872377]\n",
      "Running for hidden_dims = 10, latent_dims = 10, recon_rate = 1, lhx = 10, batch_size = 50\n",
      "Validation loss for hidden_dims = 10, latent_dims = 10, recon_rate = 1, lhx = 10, batch_size = 50 is  = [24.727287320053705, 24.72117855472433, 24.712652530106713]\n",
      "Running for hidden_dims = 10, latent_dims = 10, recon_rate = 10, lhx = 0.1, batch_size = 50\n",
      "Validation loss for hidden_dims = 10, latent_dims = 10, recon_rate = 10, lhx = 0.1, batch_size = 50 is  = [24.706902130529762, 24.704088731354545, 24.71313689116185]\n",
      "Running for hidden_dims = 10, latent_dims = 10, recon_rate = 10, lhx = 1, batch_size = 50\n",
      "Validation loss for hidden_dims = 10, latent_dims = 10, recon_rate = 10, lhx = 1, batch_size = 50 is  = [24.731722214924773, 24.733912940897483, 24.719148032849574]\n",
      "Running for hidden_dims = 10, latent_dims = 10, recon_rate = 10, lhx = 10, batch_size = 50\n",
      "Validation loss for hidden_dims = 10, latent_dims = 10, recon_rate = 10, lhx = 10, batch_size = 50 is  = [24.758871011356376, 24.75731530540174, 24.72000523200955]\n",
      "Running for hidden_dims = 20, latent_dims = 10, recon_rate = 0.1, lhx = 0.1, batch_size = 50\n",
      "Validation loss for hidden_dims = 20, latent_dims = 10, recon_rate = 0.1, lhx = 0.1, batch_size = 50 is  = [24.707688417320803, 24.68209116808054, 24.7006262210388]\n",
      "Running for hidden_dims = 20, latent_dims = 10, recon_rate = 0.1, lhx = 1, batch_size = 50\n",
      "Validation loss for hidden_dims = 20, latent_dims = 10, recon_rate = 0.1, lhx = 1, batch_size = 50 is  = [24.69645865468541, 24.670310537744662, 24.70510623291706]\n",
      "Running for hidden_dims = 20, latent_dims = 10, recon_rate = 0.1, lhx = 10, batch_size = 50\n",
      "Validation loss for hidden_dims = 20, latent_dims = 10, recon_rate = 0.1, lhx = 10, batch_size = 50 is  = [24.708220113230382, 24.697579576263333, 24.704862275714024]\n",
      "Running for hidden_dims = 20, latent_dims = 10, recon_rate = 1, lhx = 0.1, batch_size = 50\n",
      "Validation loss for hidden_dims = 20, latent_dims = 10, recon_rate = 1, lhx = 0.1, batch_size = 50 is  = [24.68677604550614, 24.691605332360787, 24.66863227355113]\n",
      "Running for hidden_dims = 20, latent_dims = 10, recon_rate = 1, lhx = 1, batch_size = 50\n",
      "Validation loss for hidden_dims = 20, latent_dims = 10, recon_rate = 1, lhx = 1, batch_size = 50 is  = [24.69128527062858, 24.67608206681228, 24.69275783608351]\n",
      "Running for hidden_dims = 20, latent_dims = 10, recon_rate = 1, lhx = 10, batch_size = 50\n",
      "Validation loss for hidden_dims = 20, latent_dims = 10, recon_rate = 1, lhx = 10, batch_size = 50 is  = [24.71061277239672, 24.709791486777277, 24.686598422316017]\n",
      "Running for hidden_dims = 20, latent_dims = 10, recon_rate = 10, lhx = 0.1, batch_size = 50\n",
      "Validation loss for hidden_dims = 20, latent_dims = 10, recon_rate = 10, lhx = 0.1, batch_size = 50 is  = [24.696694179273567, 24.697097060217338, 24.69167025893983]\n",
      "Running for hidden_dims = 20, latent_dims = 10, recon_rate = 10, lhx = 1, batch_size = 50\n",
      "Validation loss for hidden_dims = 20, latent_dims = 10, recon_rate = 10, lhx = 1, batch_size = 50 is  = [24.682085973522636, 24.69531092712671, 24.70244935021919]\n",
      "Running for hidden_dims = 20, latent_dims = 10, recon_rate = 10, lhx = 10, batch_size = 50\n",
      "Validation loss for hidden_dims = 20, latent_dims = 10, recon_rate = 10, lhx = 10, batch_size = 50 is  = [24.716322754404967, 24.700650849932774, 24.700804279406515]\n",
      "Running for hidden_dims = 50, latent_dims = 10, recon_rate = 0.1, lhx = 0.1, batch_size = 50\n",
      "Validation loss for hidden_dims = 50, latent_dims = 10, recon_rate = 0.1, lhx = 0.1, batch_size = 50 is  = [24.67317247061067, 24.680392512879532, 24.669564063109966]\n",
      "Running for hidden_dims = 50, latent_dims = 10, recon_rate = 0.1, lhx = 1, batch_size = 50\n",
      "Validation loss for hidden_dims = 50, latent_dims = 10, recon_rate = 0.1, lhx = 1, batch_size = 50 is  = [24.69114445890742, 24.66084903474876, 24.65837822703728]\n",
      "Running for hidden_dims = 50, latent_dims = 10, recon_rate = 0.1, lhx = 10, batch_size = 50\n",
      "Validation loss for hidden_dims = 50, latent_dims = 10, recon_rate = 0.1, lhx = 10, batch_size = 50 is  = [24.69040787946796, 24.689815274279947, 24.691104163620025]\n",
      "Running for hidden_dims = 50, latent_dims = 10, recon_rate = 1, lhx = 0.1, batch_size = 50\n",
      "Validation loss for hidden_dims = 50, latent_dims = 10, recon_rate = 1, lhx = 0.1, batch_size = 50 is  = [24.696341021266246, 24.69425940258858, 24.6774981562856]\n",
      "Running for hidden_dims = 50, latent_dims = 10, recon_rate = 1, lhx = 1, batch_size = 50\n",
      "Validation loss for hidden_dims = 50, latent_dims = 10, recon_rate = 1, lhx = 1, batch_size = 50 is  = [24.695891788513837, 24.700883449360234, 24.67592442942295]\n",
      "Running for hidden_dims = 50, latent_dims = 10, recon_rate = 1, lhx = 10, batch_size = 50\n",
      "Validation loss for hidden_dims = 50, latent_dims = 10, recon_rate = 1, lhx = 10, batch_size = 50 is  = [24.677393214946868, 24.671061439681996, 24.67811360889677]\n",
      "Running for hidden_dims = 50, latent_dims = 10, recon_rate = 10, lhx = 0.1, batch_size = 50\n",
      "Validation loss for hidden_dims = 50, latent_dims = 10, recon_rate = 10, lhx = 0.1, batch_size = 50 is  = [24.684776367292997, 24.688786545615013, 24.66342313420016]\n",
      "Running for hidden_dims = 50, latent_dims = 10, recon_rate = 10, lhx = 1, batch_size = 50\n",
      "Validation loss for hidden_dims = 50, latent_dims = 10, recon_rate = 10, lhx = 1, batch_size = 50 is  = [24.669776892527178, 24.66315040852123, 24.65950786415546]\n",
      "Running for hidden_dims = 50, latent_dims = 10, recon_rate = 10, lhx = 10, batch_size = 50\n",
      "Validation loss for hidden_dims = 50, latent_dims = 10, recon_rate = 10, lhx = 10, batch_size = 50 is  = [24.677782467519016, 24.66671384647161, 24.65494295188573]\n"
     ]
    }
   ],
   "source": [
    "hidden_dim = [10,20,50]\n",
    "latent_dim = [10]\n",
    "recon_rate = [0.1,1,10]\n",
    "lhx = [0.1,1,10]\n",
    "batches = [50]\n",
    "history_list = []\n",
    "model_list = []\n",
    "for h in hidden_dim:\n",
    "    for l in latent_dim:\n",
    "        for r in recon_rate:\n",
    "            for lh in lhx:\n",
    "                for bs in batches:\n",
    "                    print(\"Running for hidden_dims = {}, latent_dims = {}, recon_rate = {}, lhx = {}, batch_size = {}\".format(h,l,r,lh,bs))\n",
    "                    dims['z1_enc_hidden'] = h\n",
    "                    dims['z2_enc_hidden'] = h\n",
    "                    dims['z1_dec_hidden'] = h\n",
    "                    dims['z2_dec_hidden'] = h\n",
    "                    dims['y_hidden'] = h\n",
    "                    dims['z1_enc'] = l\n",
    "                    dims['z2_enc'] = l\n",
    "                    dims['z1_dec'] = l\n",
    "                    dims['recon_rate'] = r\n",
    "                    dims['lhx']  = lh\n",
    "                    outputs, KL_z1, KL_z2 = vfae_model(inputs)\n",
    "                    vfae = Model(inputs,outputs)\n",
    "                    vfae.compile(optimizer='adam', loss=vfae_loss)\n",
    "                    model_list.append(vfae)\n",
    "                    history_list.append(vfae.fit(X_train, X_train, validation_split=0.2,batch_size=bs, epochs=10,verbose=False))\n",
    "                    val_loss = history_list[-1].history['val_loss'][7:10]\n",
    "                    print(\"Validation loss for hidden_dims = {}, latent_dims = {}, recon_rate = {}, lhx = {}, batch_size = {} is  = {}\".format(h,l,r,lh,bs,val_loss))\n",
    "     "
   ]
  },
  {
   "cell_type": "code",
   "execution_count": 198,
   "metadata": {},
   "outputs": [],
   "source": [
    "X_test_aa = X_test[X_test[:,:,10]==0]\n",
    "X_test_aa = X_test_aa.reshape(X_test_aa.shape[0],1,12)\n",
    "X_test_c = X_test[X_test[:,:,10]==1]\n",
    "X_test_c = X_test_c.reshape(X_test_c.shape[0],1,12)\n",
    "y_true_aa = y_true[X_test[:,:,10]==0]\n",
    "y_true_c = y_true[X_test[:,:,10]==1]"
   ]
  },
  {
   "cell_type": "code",
   "execution_count": 199,
   "metadata": {},
   "outputs": [
    {
     "name": "stdout",
     "output_type": "stream",
     "text": [
      "(1363, 11)\n"
     ]
    }
   ],
   "source": [
    "predict_aa = vfae.predict(X_test_c)\n",
    "predict_aa = predict_aa.reshape(predict_aa.shape[0],12)\n",
    "latent_X = predict_aa[:,:-1]\n",
    "print(latent_X.shape)"
   ]
  },
  {
   "cell_type": "code",
   "execution_count": 158,
   "metadata": {},
   "outputs": [],
   "source": [
    "predict = vfae.predict(X_test)"
   ]
  },
  {
   "cell_type": "code",
   "execution_count": 159,
   "metadata": {},
   "outputs": [],
   "source": [
    "predict = predict.reshape(3410,12)"
   ]
  },
  {
   "cell_type": "code",
   "execution_count": 160,
   "metadata": {},
   "outputs": [
    {
     "name": "stdout",
     "output_type": "stream",
     "text": [
      "(3410, 11)\n"
     ]
    }
   ],
   "source": [
    "latent_X = predict[:,:-1]\n",
    "print(latent_X.shape)"
   ]
  },
  {
   "cell_type": "code",
   "execution_count": 200,
   "metadata": {},
   "outputs": [],
   "source": [
    "X_train_final, X_test_final, y_train_final, y_test_final = train_test_split(latent_X,y_true_c, test_size=0.30, random_state=42)"
   ]
  },
  {
   "cell_type": "code",
   "execution_count": 201,
   "metadata": {},
   "outputs": [],
   "source": [
    "def predict_thresh(threshold, prob):\n",
    "    if prob>threshold:\n",
    "        return 1\n",
    "    else:\n",
    "        return 0\n",
    "func_final = np.vectorize(predict_thresh)"
   ]
  },
  {
   "cell_type": "code",
   "execution_count": 65,
   "metadata": {},
   "outputs": [],
   "source": [
    "import sklearn\n",
    "from sklearn import metrics\n",
    "from sklearn.metrics import accuracy_score, precision_score, recall_score, plot_confusion_matrix, f1_score\n",
    "from sklearn.svm import LinearSVC as svm\n",
    "#from sklearn.svm import SVC as svm\n",
    "import matplotlib.pyplot as plt\n",
    "def roc(true_labels, predicted):\n",
    "    fpr, tpr, thresholds = metrics.roc_curve(true_labels, predicted)\n",
    "    roc_auc = metrics.auc(fpr, tpr)\n",
    "    plt.title('Receiver Operating Characteristic')\n",
    "    plt.plot(fpr, tpr, 'b', label = 'AUC = %0.4f' % roc_auc)\n",
    "    plt.legend(loc = 'lower right')\n",
    "    plt.plot([0, 1], [0, 1],'r--')\n",
    "    plt.xlim([0, 1])\n",
    "    plt.ylim([0, 1])\n",
    "    plt.ylabel('True Positive Rate')\n",
    "    plt.xlabel('False Positive Rate')\n",
    "    plt.show()\n",
    "    return 1\n",
    "def print_metrics(true_labels, predicted):\n",
    "    print(\"Accuracy:\", accuracy_score(true_labels, predicted))\n",
    "    print(\"Precision:\", precision_score(true_labels, predicted))\n",
    "    print(\"Recall:\", recall_score(true_labels, predicted))\n",
    "    print(\"F1 Score:\", f1_score(true_labels, predicted))\n",
    "    return 1"
   ]
  },
  {
   "cell_type": "code",
   "execution_count": 312,
   "metadata": {},
   "outputs": [],
   "source": [
    "X_test_aa = X_test[X_test[:,10]==0]\n",
    "X_test_aa = X_test_aa.reshape(X_test_aa.shape[0],11)\n",
    "X_test_c = X_test[X_test[:,10]==1]\n",
    "X_test_c = X_test_c.reshape(X_test_c.shape[0],11)\n",
    "y_true_aa = y_true[X_test[:,10]==0]\n",
    "y_true_c = y_true[X_test[:,10]==1]"
   ]
  },
  {
   "cell_type": "code",
   "execution_count": 313,
   "metadata": {},
   "outputs": [
    {
     "data": {
      "text/plain": [
       "((2047, 11), (1363, 11))"
      ]
     },
     "execution_count": 313,
     "metadata": {},
     "output_type": "execute_result"
    }
   ],
   "source": [
    "X_test_aa.shape, X_test_c.shape"
   ]
  },
  {
   "cell_type": "code",
   "execution_count": 314,
   "metadata": {},
   "outputs": [],
   "source": [
    "from sklearn.metrics import confusion_matrix as cm\n",
    "def roc(true_labels, predicted,titles):\n",
    "    fpr, tpr, thresholds = metrics.roc_curve(true_labels, predicted)\n",
    "    roc_auc = metrics.auc(fpr, tpr)\n",
    "    plt.title(titles)\n",
    "    plt.plot(fpr, tpr, 'b', label = 'AUC = %0.4f' % roc_auc)\n",
    "    plt.legend(loc = 'lower right')\n",
    "    plt.plot([0, 1], [0, 1],'r--')\n",
    "    plt.xlim([0, 1])\n",
    "    plt.ylim([0, 1])\n",
    "    plt.ylabel('True Positive Rate')\n",
    "    plt.xlabel('False Positive Rate')\n",
    "    plt.show()\n",
    "    return 1\n",
    "def print_metrics(true_labels, predicted):\n",
    "    def perf_measure(y_actual, y_hat):\n",
    "        TP = 0.0\n",
    "        FP = 0.0\n",
    "        TN = 0.0\n",
    "        FN = 0.0\n",
    "\n",
    "        for i in range(len(y_hat)): \n",
    "            if y_actual[i]==y_hat[i]==1:\n",
    "               TP += 1\n",
    "            if y_hat[i]==1 and y_actual[i]!=y_hat[i]:\n",
    "               FP += 1\n",
    "            if y_actual[i]==y_hat[i]==0:\n",
    "               TN += 1\n",
    "            if y_hat[i]==0 and y_actual[i]!=y_hat[i]:\n",
    "               FN += 1\n",
    "        FPR = FP/(FP+TN)\n",
    "        return FPR\n",
    "    tn, fp, fn, tp = cm(true_labels, predicted).ravel()\n",
    "    fpr = fp/(fp+tn)\n",
    "    print(\"Accuracy:\", accuracy_score(true_labels, predicted))\n",
    "    print(\"Precision:\", precision_score(true_labels, predicted))\n",
    "    print(\"Recall:\", recall_score(true_labels, predicted))\n",
    "    print(\"False Positive Rate\",fpr)# perf_measure(true_labels, predicted))\n",
    "    print(\"F1 Score:\", f1_score(true_labels, predicted))\n",
    "    return 1"
   ]
  },
  {
   "cell_type": "code",
   "execution_count": 315,
   "metadata": {},
   "outputs": [],
   "source": [
    "predict_aa = encoder.predict(X_test_aa)\n",
    "predict_c = encoder.predict(X_test_c)"
   ]
  },
  {
   "cell_type": "code",
   "execution_count": 317,
   "metadata": {},
   "outputs": [],
   "source": [
    "def predict_thresh(threshold, prob):\n",
    "    if prob>threshold:\n",
    "        return 1\n",
    "    else:\n",
    "        return 0\n",
    "func_final = np.vectorize(predict_thresh)"
   ]
  },
  {
   "cell_type": "code",
   "execution_count": 319,
   "metadata": {},
   "outputs": [],
   "source": [
    "X_train_final, X_test_final, y_train_final, y_test_final = train_test_split(predict_aa,y_true_aa, test_size=0.30, random_state=42)"
   ]
  },
  {
   "cell_type": "code",
   "execution_count": 320,
   "metadata": {},
   "outputs": [
    {
     "name": "stdout",
     "output_type": "stream",
     "text": [
      "[0 1]\n",
      "Logistic Regression:\n",
      "Accuracy: 0.5349593495934959\n",
      "Precision: 0.41578947368421054\n",
      "Recall: 0.7117117117117117\n",
      "False Positive Rate 0.5648854961832062\n",
      "F1 Score: 0.5249169435215947\n"
     ]
    },
    {
     "data": {
      "image/png": "[encoded data removed]",
      "text/plain": [
       "<Figure size 432x288 with 2 Axes>"
      ]
     },
     "metadata": {
      "needs_background": "light"
     },
     "output_type": "display_data"
    },
    {
     "data": {
      "image/png": "[encoded data removed]",
      "text/plain": [
       "<Figure size 432x288 with 1 Axes>"
      ]
     },
     "metadata": {
      "needs_background": "light"
     },
     "output_type": "display_data"
    },
    {
     "data": {
      "text/plain": [
       "1"
      ]
     },
     "execution_count": 320,
     "metadata": {},
     "output_type": "execute_result"
    }
   ],
   "source": [
    "from sklearn.linear_model import LogisticRegression\n",
    "# all parameters not specified are set to their defaults\n",
    "logisticRegr = LogisticRegression(C=1e7, max_iter=1000)\n",
    "logisticRegr.fit(X_train_final, y_train_final)\n",
    "LR_prediction = logisticRegr.predict(X_test_final)\n",
    "LR_probs = logisticRegr.predict_proba(X_test_final)[:,1]\n",
    "thres = np.repeat(0.35,LR_probs.shape)\n",
    "LR_prediction = func_final(thres,LR_probs)\n",
    "print(np.unique(LR_prediction))\n",
    "print(\"Logistic Regression:\")\n",
    "print_metrics(y_test_final, LR_prediction)\n",
    "confusion_matrix = plot_confusion_matrix(logisticRegr, X_test_final, y_test_final,cmap=plt.cm.Reds)\n",
    "plt.title(\"Confusion Matrix, VFAE, African Americans\")\n",
    "plt.figure()\n",
    "roc(y_test_final, logisticRegr.predict_proba(X_test_final)[:,1],\"ROC for VFAE, African Americans\")"
   ]
  },
  {
   "cell_type": "code",
   "execution_count": 321,
   "metadata": {},
   "outputs": [],
   "source": [
    "X_train_final, X_test_final, y_train_final, y_test_final = train_test_split(predict_c,y_true_c, test_size=0.30, random_state=42)"
   ]
  },
  {
   "cell_type": "code",
   "execution_count": 322,
   "metadata": {},
   "outputs": [
    {
     "name": "stdout",
     "output_type": "stream",
     "text": [
      "[0 1]\n",
      "Logistic Regression:\n",
      "Accuracy: 0.6454767726161369\n",
      "Precision: 0.4017094017094017\n",
      "Recall: 0.38524590163934425\n",
      "False Positive Rate 0.24390243902439024\n",
      "F1 Score: 0.39330543933054396\n"
     ]
    },
    {
     "data": {
      "image/png": "[encoded data removed]",
      "text/plain": [
       "<Figure size 432x288 with 2 Axes>"
      ]
     },
     "metadata": {
      "needs_background": "light"
     },
     "output_type": "display_data"
    },
    {
     "data": {
      "image/png": "[encoded data removed]",
      "text/plain": [
       "<Figure size 432x288 with 1 Axes>"
      ]
     },
     "metadata": {
      "needs_background": "light"
     },
     "output_type": "display_data"
    },
    {
     "data": {
      "text/plain": [
       "1"
      ]
     },
     "execution_count": 322,
     "metadata": {},
     "output_type": "execute_result"
    }
   ],
   "source": [
    "from sklearn.linear_model import LogisticRegression\n",
    "# all parameters not specified are set to their defaults\n",
    "logisticRegr = LogisticRegression(C=1e7, max_iter=1000)\n",
    "logisticRegr.fit(X_train_final, y_train_final)\n",
    "LR_prediction = logisticRegr.predict(X_test_final)\n",
    "LR_probs = logisticRegr.predict_proba(X_test_final)[:,1]\n",
    "thres = np.repeat(0.35,LR_probs.shape)\n",
    "LR_prediction = func_final(thres,LR_probs)\n",
    "print(np.unique(LR_prediction))\n",
    "print(\"Logistic Regression:\")\n",
    "print_metrics(y_test_final, LR_prediction)\n",
    "confusion_matrix = plot_confusion_matrix(logisticRegr, X_test_final, y_test_final,cmap=plt.cm.Reds)\n",
    "plt.title(\"Confusion Matrix, VFAE, Caucasians\")\n",
    "plt.figure()\n",
    "roc(y_test_final, logisticRegr.predict_proba(X_test_final)[:,1],\"ROC for VFAE, Caucasians\")"
   ]
  }
 ],
 "metadata": {
  "kernelspec": {
   "display_name": "Python 3",
   "language": "python",
   "name": "python3"
  },
  "language_info": {
   "codemirror_mode": {
    "name": "ipython",
    "version": 3
   },
   "file_extension": ".py",
   "mimetype": "text/x-python",
   "name": "python",
   "nbconvert_exporter": "python",
   "pygments_lexer": "ipython3",
   "version": "3.7.6"
  }
 },
 "nbformat": 4,
 "nbformat_minor": 2
}
